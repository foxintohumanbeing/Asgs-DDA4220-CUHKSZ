{
 "cells": [
  {
   "cell_type": "markdown",
   "metadata": {},
   "source": [
    "# Use Glove in Pytorch to Finish NLP task\n",
    "\n",
    "Author:Huihan Yang"
   ]
  },
  {
   "cell_type": "markdown",
   "metadata": {},
   "source": [
    "# Preparation"
   ]
  },
  {
   "cell_type": "code",
   "execution_count": 2,
   "metadata": {},
   "outputs": [
    {
     "name": "stdout",
     "output_type": "stream",
     "text": [
      "d:\\杨蕙菡\\assignment-2-text-classification-foxintohumanbeing\n"
     ]
    }
   ],
   "source": [
    "%cd .."
   ]
  },
  {
   "cell_type": "code",
   "execution_count": 3,
   "metadata": {},
   "outputs": [],
   "source": [
    "import torchtext\n",
    "import os\n",
    "import numpy as np\n",
    "import random\n",
    "import torch\n",
    "from torch.utils.data import DataLoader, Dataset\n",
    "from torchtext.data import get_tokenizer\n",
    "from torchtext.vocab import GloVe\n",
    "from torch.nn.utils.rnn import pad_sequence\n",
    "from torch import nn\n",
    "import pandas as pd\n",
    "import argparse\n",
    "from torch.utils.tensorboard import SummaryWriter\n",
    "from tqdm import tqdm"
   ]
  },
  {
   "cell_type": "markdown",
   "metadata": {},
   "source": [
    "## Set random seed"
   ]
  },
  {
   "cell_type": "code",
   "execution_count": 4,
   "metadata": {},
   "outputs": [
    {
     "data": {
      "text/plain": [
       "<torch._C.Generator at 0x16c4501f490>"
      ]
     },
     "execution_count": 4,
     "metadata": {},
     "output_type": "execute_result"
    }
   ],
   "source": [
    "seed = 114\n",
    "np.random.seed(seed)\n",
    "torch.manual_seed(seed)"
   ]
  },
  {
   "cell_type": "markdown",
   "metadata": {},
   "source": [
    "# Hyperparameter"
   ]
  },
  {
   "cell_type": "code",
   "execution_count": 5,
   "metadata": {},
   "outputs": [],
   "source": [
    "configs = {\n",
    "    'work_dir': 'work_dir2', \n",
    "    'device': 'cuda:0',\n",
    "    'batch': 32, \n",
    "    'optimizer_config': {\n",
    "        'lr': 1e-4, \n",
    "    }, \n",
    "    'epoch': 100, \n",
    "    'model_name': 'bert-large-uncased',\n",
    "    'enable_tb': False,\n",
    "    'dropout':0.5\n",
    "}"
   ]
  },
  {
   "cell_type": "code",
   "execution_count": 6,
   "metadata": {},
   "outputs": [],
   "source": [
    "GLOVE_DIM = 100\n",
    "GLOVE = GloVe(name='6B', dim=GLOVE_DIM)"
   ]
  },
  {
   "cell_type": "markdown",
   "metadata": {},
   "source": [
    "# DataLoader"
   ]
  },
  {
   "cell_type": "code",
   "execution_count": 7,
   "metadata": {},
   "outputs": [
    {
     "name": "stdout",
     "output_type": "stream",
     "text": [
      "Complete data preprocessing with length: 5329\n",
      "Complete data preprocessing with length: 2284\n",
      "Complete data preprocessing with length: 3263\n"
     ]
    }
   ],
   "source": [
    "class TWITTERDataset(Dataset):\n",
    "\n",
    "    def __init__(self, fname, is_train=True):\n",
    "        super().__init__()\n",
    "        self.tokenizer = get_tokenizer('basic_english')\n",
    "        self.train = is_train\n",
    "        if is_train == True:\n",
    "            df = pd.read_csv(fname).iloc[:,1:]\n",
    "        else:\n",
    "            df = pd.read_csv(fname)\n",
    "        self.lines = []\n",
    "        for i in range(len(df)):\n",
    "            if is_train == True:\n",
    "                self.lines.append((df.iloc[i, 0], df.iloc[i, 1], df.iloc[i, 2], GLOVE.get_vecs_by_tokens(self.tokenizer(df.iloc[i, 3])), torch.tensor(df.iloc[i, 4], dtype=torch.int32) ))\n",
    "            else:\n",
    "                self.lines.append(( GLOVE.get_vecs_by_tokens(self.tokenizer(df.iloc[i, 3]))))\n",
    "        print('Complete data preprocessing with length:', len(self.lines)) \n",
    "\n",
    "    def __len__(self):\n",
    "        return len(self.lines)\n",
    "\n",
    "    def __getitem__(self, index: int):\n",
    "        item = self.lines[index]\n",
    "        if self.train:\n",
    "            return item[3], item[4]\n",
    "        return item\n",
    "\n",
    "\n",
    "def get_dataloader():\n",
    "    def collate_fn1(batch):\n",
    "        x, y = zip(*batch)\n",
    "        x_pad = pad_sequence(x, batch_first=True)\n",
    "        y = torch.Tensor(y)\n",
    "        return x_pad, y\n",
    "\n",
    "    def collate_fn2(batch):\n",
    "        x = [item for item in batch]\n",
    "        x_pad = pad_sequence(x, batch_first=True)\n",
    "        return x_pad\n",
    "\n",
    "    train_dataloader = DataLoader(TWITTERDataset('nlp-getting-started/train_clean.csv'),\n",
    "                    batch_size = configs['batch'],\n",
    "                    shuffle = True,\n",
    "                    collate_fn = collate_fn1)\n",
    "    val_dataloader = DataLoader(TWITTERDataset('nlp-getting-started/val_clean.csv'),\n",
    "                    batch_size = configs['batch'],\n",
    "                    shuffle = True,\n",
    "                    collate_fn = collate_fn1)\n",
    "    test_dataloader = DataLoader(TWITTERDataset('nlp-getting-started/test.csv', False),\n",
    "                    batch_size = configs['batch'],\n",
    "                    shuffle = False,\n",
    "                    collate_fn = collate_fn2)\n",
    "    return train_dataloader,val_dataloader, test_dataloader\n",
    "\n",
    "\n",
    "train_dataloader,val_dataloader, test_dataloader = get_dataloader()\n"
   ]
  },
  {
   "cell_type": "markdown",
   "metadata": {},
   "source": [
    "# Define Model"
   ]
  },
  {
   "cell_type": "code",
   "execution_count": 8,
   "metadata": {},
   "outputs": [],
   "source": [
    "device = configs['device']\n",
    "class RNN(torch.nn.Module):\n",
    "    def __init__(self, hidden_units=64, dropout_rate=configs['dropout']):\n",
    "        super().__init__()\n",
    "        self.drop = nn.Dropout(dropout_rate)\n",
    "        self.rnn = nn.GRU(GLOVE_DIM, hidden_units, 1, batch_first=True)\n",
    "        self.linear = nn.Linear(hidden_units, 1)\n",
    "        self.sigmoid = nn.Sigmoid()\n",
    "\n",
    "    def forward(self, x: torch.Tensor):\n",
    "        # x shape: [batch, max_word_length, embedding_length]\n",
    "        emb = self.drop(x)\n",
    "        output, _ = self.rnn(emb)\n",
    "        output = output[:, -1]\n",
    "        output = self.linear(output)\n",
    "        output = self.sigmoid(output)\n",
    "        return output\n",
    "\n",
    "model = RNN().to(device)"
   ]
  },
  {
   "cell_type": "markdown",
   "metadata": {},
   "source": [
    "# Trainning"
   ]
  },
  {
   "cell_type": "code",
   "execution_count": 12,
   "metadata": {},
   "outputs": [
    {
     "data": {
      "text/plain": [
       "'d:\\\\杨蕙菡\\\\assignment-2-text-classification-foxintohumanbeing'"
      ]
     },
     "execution_count": 12,
     "metadata": {},
     "output_type": "execute_result"
    }
   ],
   "source": [
    "import os\n",
    "os.getcwd()"
   ]
  },
  {
   "cell_type": "code",
   "execution_count": 13,
   "metadata": {},
   "outputs": [
    {
     "name": "stderr",
     "output_type": "stream",
     "text": [
      "100%|██████████| 167/167 [00:00<00:00, 353.26it/s]\n",
      "100%|██████████| 72/72 [00:00<00:00, 1002.68it/s]\n"
     ]
    },
    {
     "name": "stdout",
     "output_type": "stream",
     "text": [
      "save model\n",
      "Epoch 0. accuracy: 0.5647985989492119\n"
     ]
    },
    {
     "name": "stderr",
     "output_type": "stream",
     "text": [
      "100%|██████████| 167/167 [00:00<00:00, 382.24it/s]\n",
      "100%|██████████| 72/72 [00:00<00:00, 759.93it/s]\n"
     ]
    },
    {
     "name": "stdout",
     "output_type": "stream",
     "text": [
      "Epoch 1. accuracy: 0.5647985989492119\n"
     ]
    },
    {
     "name": "stderr",
     "output_type": "stream",
     "text": [
      "100%|██████████| 167/167 [00:00<00:00, 370.46it/s]\n",
      "100%|██████████| 72/72 [00:00<00:00, 880.40it/s]\n"
     ]
    },
    {
     "name": "stdout",
     "output_type": "stream",
     "text": [
      "Epoch 2. accuracy: 0.5647985989492119\n"
     ]
    },
    {
     "name": "stderr",
     "output_type": "stream",
     "text": [
      "100%|██████████| 167/167 [00:00<00:00, 343.13it/s]\n",
      "100%|██████████| 72/72 [00:00<00:00, 999.73it/s]\n"
     ]
    },
    {
     "name": "stdout",
     "output_type": "stream",
     "text": [
      "save model\n",
      "Epoch 3. accuracy: 0.6987740805604203\n"
     ]
    },
    {
     "name": "stderr",
     "output_type": "stream",
     "text": [
      "100%|██████████| 167/167 [00:00<00:00, 403.77it/s]\n",
      "100%|██████████| 72/72 [00:00<00:00, 991.77it/s]\n"
     ]
    },
    {
     "name": "stdout",
     "output_type": "stream",
     "text": [
      "save model\n",
      "Epoch 4. accuracy: 0.7342381786339754\n"
     ]
    },
    {
     "name": "stderr",
     "output_type": "stream",
     "text": [
      "100%|██████████| 167/167 [00:00<00:00, 392.41it/s]\n",
      "100%|██████████| 72/72 [00:00<00:00, 988.95it/s]\n"
     ]
    },
    {
     "name": "stdout",
     "output_type": "stream",
     "text": [
      "save model\n",
      "Epoch 5. accuracy: 0.7548161120840631\n"
     ]
    },
    {
     "name": "stderr",
     "output_type": "stream",
     "text": [
      "100%|██████████| 167/167 [00:00<00:00, 399.64it/s]\n",
      "100%|██████████| 72/72 [00:00<00:00, 902.42it/s]\n"
     ]
    },
    {
     "name": "stdout",
     "output_type": "stream",
     "text": [
      "save model\n",
      "Epoch 6. accuracy: 0.7670753064798599\n"
     ]
    },
    {
     "name": "stderr",
     "output_type": "stream",
     "text": [
      "100%|██████████| 167/167 [00:00<00:00, 342.73it/s]\n",
      "100%|██████████| 72/72 [00:00<00:00, 913.83it/s]\n"
     ]
    },
    {
     "name": "stdout",
     "output_type": "stream",
     "text": [
      "save model\n",
      "Epoch 7. accuracy: 0.7732049036777583\n"
     ]
    },
    {
     "name": "stderr",
     "output_type": "stream",
     "text": [
      "100%|██████████| 167/167 [00:00<00:00, 386.71it/s]\n",
      "100%|██████████| 72/72 [00:00<00:00, 902.42it/s]\n"
     ]
    },
    {
     "name": "stdout",
     "output_type": "stream",
     "text": [
      "save model\n",
      "Epoch 8. accuracy: 0.7753940455341506\n"
     ]
    },
    {
     "name": "stderr",
     "output_type": "stream",
     "text": [
      "100%|██████████| 167/167 [00:00<00:00, 399.09it/s]\n",
      "100%|██████████| 72/72 [00:00<00:00, 927.31it/s]\n"
     ]
    },
    {
     "name": "stdout",
     "output_type": "stream",
     "text": [
      "save model\n",
      "Epoch 9. accuracy: 0.7806479859894921\n"
     ]
    },
    {
     "name": "stderr",
     "output_type": "stream",
     "text": [
      "100%|██████████| 167/167 [00:00<00:00, 392.15it/s]\n",
      "100%|██████████| 72/72 [00:00<00:00, 732.02it/s]\n"
     ]
    },
    {
     "name": "stdout",
     "output_type": "stream",
     "text": [
      "save model\n",
      "Epoch 10. accuracy: 0.782399299474606\n"
     ]
    },
    {
     "name": "stderr",
     "output_type": "stream",
     "text": [
      "100%|██████████| 167/167 [00:00<00:00, 357.03it/s]\n",
      "100%|██████████| 72/72 [00:00<00:00, 880.40it/s]\n"
     ]
    },
    {
     "name": "stdout",
     "output_type": "stream",
     "text": [
      "Epoch 11. accuracy: 0.7802101576182137\n"
     ]
    },
    {
     "name": "stderr",
     "output_type": "stream",
     "text": [
      "100%|██████████| 167/167 [00:00<00:00, 380.17it/s]\n",
      "100%|██████████| 72/72 [00:00<00:00, 596.64it/s]\n"
     ]
    },
    {
     "name": "stdout",
     "output_type": "stream",
     "text": [
      "save model\n",
      "Epoch 12. accuracy: 0.7832749562171629\n"
     ]
    },
    {
     "name": "stderr",
     "output_type": "stream",
     "text": [
      "100%|██████████| 167/167 [00:00<00:00, 379.18it/s]\n",
      "100%|██████████| 72/72 [00:00<00:00, 913.84it/s]\n"
     ]
    },
    {
     "name": "stdout",
     "output_type": "stream",
     "text": [
      "Epoch 13. accuracy: 0.7819614711033275\n"
     ]
    },
    {
     "name": "stderr",
     "output_type": "stream",
     "text": [
      "100%|██████████| 167/167 [00:00<00:00, 395.36it/s]\n",
      "100%|██████████| 72/72 [00:00<00:00, 880.41it/s]\n"
     ]
    },
    {
     "name": "stdout",
     "output_type": "stream",
     "text": [
      "Epoch 14. accuracy: 0.7806479859894921\n"
     ]
    },
    {
     "name": "stderr",
     "output_type": "stream",
     "text": [
      "100%|██████████| 167/167 [00:00<00:00, 349.58it/s]\n",
      "100%|██████████| 72/72 [00:00<00:00, 768.01it/s]\n"
     ]
    },
    {
     "name": "stdout",
     "output_type": "stream",
     "text": [
      "Epoch 15. accuracy: 0.7784588441330998\n"
     ]
    },
    {
     "name": "stderr",
     "output_type": "stream",
     "text": [
      "100%|██████████| 167/167 [00:00<00:00, 374.25it/s]\n",
      "100%|██████████| 72/72 [00:00<00:00, 784.71it/s]\n"
     ]
    },
    {
     "name": "stdout",
     "output_type": "stream",
     "text": [
      "save model\n",
      "Epoch 16. accuracy: 0.7867775831873906\n"
     ]
    },
    {
     "name": "stderr",
     "output_type": "stream",
     "text": [
      "100%|██████████| 167/167 [00:00<00:00, 393.75it/s]\n",
      "100%|██████████| 72/72 [00:00<00:00, 937.58it/s]\n"
     ]
    },
    {
     "name": "stdout",
     "output_type": "stream",
     "text": [
      "Epoch 17. accuracy: 0.7775831873905429\n"
     ]
    },
    {
     "name": "stderr",
     "output_type": "stream",
     "text": [
      "100%|██████████| 167/167 [00:00<00:00, 378.74it/s]\n",
      "100%|██████████| 72/72 [00:00<00:00, 913.84it/s]\n"
     ]
    },
    {
     "name": "stdout",
     "output_type": "stream",
     "text": [
      "Epoch 18. accuracy: 0.7810858143607706\n"
     ]
    },
    {
     "name": "stderr",
     "output_type": "stream",
     "text": [
      "100%|██████████| 167/167 [00:00<00:00, 391.54it/s]\n",
      "100%|██████████| 72/72 [00:00<00:00, 768.01it/s]\n"
     ]
    },
    {
     "name": "stdout",
     "output_type": "stream",
     "text": [
      "Epoch 19. accuracy: 0.7802101576182137\n"
     ]
    },
    {
     "name": "stderr",
     "output_type": "stream",
     "text": [
      "100%|██████████| 167/167 [00:00<00:00, 358.88it/s]\n",
      "100%|██████████| 72/72 [00:00<00:00, 913.84it/s]\n"
     ]
    },
    {
     "name": "stdout",
     "output_type": "stream",
     "text": [
      "save model\n",
      "Epoch 20. accuracy: 0.7915936952714536\n"
     ]
    },
    {
     "name": "stderr",
     "output_type": "stream",
     "text": [
      "100%|██████████| 167/167 [00:00<00:00, 399.62it/s]\n",
      "100%|██████████| 72/72 [00:00<00:00, 877.19it/s]\n"
     ]
    },
    {
     "name": "stdout",
     "output_type": "stream",
     "text": [
      "Epoch 21. accuracy: 0.7889667250437828\n"
     ]
    },
    {
     "name": "stderr",
     "output_type": "stream",
     "text": [
      "100%|██████████| 167/167 [00:00<00:00, 334.27it/s]\n",
      "100%|██████████| 72/72 [00:00<00:00, 784.70it/s]\n"
     ]
    },
    {
     "name": "stdout",
     "output_type": "stream",
     "text": [
      "Epoch 22. accuracy: 0.7867775831873906\n"
     ]
    },
    {
     "name": "stderr",
     "output_type": "stream",
     "text": [
      "100%|██████████| 167/167 [00:00<00:00, 386.71it/s]\n",
      "100%|██████████| 72/72 [00:00<00:00, 732.40it/s]\n"
     ]
    },
    {
     "name": "stdout",
     "output_type": "stream",
     "text": [
      "Epoch 23. accuracy: 0.7863397548161121\n"
     ]
    },
    {
     "name": "stderr",
     "output_type": "stream",
     "text": [
      "100%|██████████| 167/167 [00:00<00:00, 359.33it/s]\n",
      "100%|██████████| 72/72 [00:00<00:00, 776.27it/s]\n"
     ]
    },
    {
     "name": "stdout",
     "output_type": "stream",
     "text": [
      "Epoch 24. accuracy: 0.782399299474606\n"
     ]
    },
    {
     "name": "stderr",
     "output_type": "stream",
     "text": [
      "100%|██████████| 167/167 [00:00<00:00, 355.53it/s]\n",
      "100%|██████████| 72/72 [00:00<00:00, 783.34it/s]\n"
     ]
    },
    {
     "name": "stdout",
     "output_type": "stream",
     "text": [
      "Epoch 25. accuracy: 0.787215411558669\n"
     ]
    },
    {
     "name": "stderr",
     "output_type": "stream",
     "text": [
      "100%|██████████| 167/167 [00:00<00:00, 385.41it/s]\n",
      "100%|██████████| 72/72 [00:00<00:00, 891.27it/s]\n"
     ]
    },
    {
     "name": "stdout",
     "output_type": "stream",
     "text": [
      "Epoch 26. accuracy: 0.7837127845884413\n"
     ]
    },
    {
     "name": "stderr",
     "output_type": "stream",
     "text": [
      "100%|██████████| 167/167 [00:00<00:00, 387.11it/s]\n",
      "100%|██████████| 72/72 [00:00<00:00, 913.84it/s]\n"
     ]
    },
    {
     "name": "stdout",
     "output_type": "stream",
     "text": [
      "Epoch 27. accuracy: 0.7898423817863398\n"
     ]
    },
    {
     "name": "stderr",
     "output_type": "stream",
     "text": [
      "100%|██████████| 167/167 [00:00<00:00, 388.57it/s]\n",
      "100%|██████████| 72/72 [00:00<00:00, 913.84it/s]\n"
     ]
    },
    {
     "name": "stdout",
     "output_type": "stream",
     "text": [
      "Epoch 28. accuracy: 0.7863397548161121\n"
     ]
    },
    {
     "name": "stderr",
     "output_type": "stream",
     "text": [
      "100%|██████████| 167/167 [00:00<00:00, 375.81it/s]\n",
      "100%|██████████| 72/72 [00:00<00:00, 736.66it/s]\n"
     ]
    },
    {
     "name": "stdout",
     "output_type": "stream",
     "text": [
      "Epoch 29. accuracy: 0.7876532399299475\n"
     ]
    },
    {
     "name": "stderr",
     "output_type": "stream",
     "text": [
      "100%|██████████| 167/167 [00:00<00:00, 370.46it/s]\n",
      "100%|██████████| 72/72 [00:00<00:00, 880.41it/s]\n"
     ]
    },
    {
     "name": "stdout",
     "output_type": "stream",
     "text": [
      "Epoch 30. accuracy: 0.7898423817863398\n"
     ]
    },
    {
     "name": "stderr",
     "output_type": "stream",
     "text": [
      "100%|██████████| 167/167 [00:00<00:00, 336.53it/s]\n",
      "100%|██████████| 72/72 [00:00<00:00, 811.15it/s]\n"
     ]
    },
    {
     "name": "stdout",
     "output_type": "stream",
     "text": [
      "Epoch 31. accuracy: 0.787215411558669\n"
     ]
    },
    {
     "name": "stderr",
     "output_type": "stream",
     "text": [
      "100%|██████████| 167/167 [00:00<00:00, 394.92it/s]\n",
      "100%|██████████| 72/72 [00:00<00:00, 869.79it/s]\n"
     ]
    },
    {
     "name": "stdout",
     "output_type": "stream",
     "text": [
      "Epoch 32. accuracy: 0.7837127845884413\n"
     ]
    },
    {
     "name": "stderr",
     "output_type": "stream",
     "text": [
      "100%|██████████| 167/167 [00:00<00:00, 367.55it/s]\n",
      "100%|██████████| 72/72 [00:00<00:00, 776.27it/s]\n"
     ]
    },
    {
     "name": "stdout",
     "output_type": "stream",
     "text": [
      "Epoch 33. accuracy: 0.7880910683012259\n"
     ]
    },
    {
     "name": "stderr",
     "output_type": "stream",
     "text": [
      "100%|██████████| 167/167 [00:00<00:00, 369.19it/s]\n",
      "100%|██████████| 72/72 [00:00<00:00, 748.11it/s]\n"
     ]
    },
    {
     "name": "stdout",
     "output_type": "stream",
     "text": [
      "Epoch 34. accuracy: 0.7907180385288967\n"
     ]
    },
    {
     "name": "stderr",
     "output_type": "stream",
     "text": [
      "100%|██████████| 167/167 [00:00<00:00, 356.47it/s]\n",
      "100%|██████████| 72/72 [00:00<00:00, 891.27it/s]\n"
     ]
    },
    {
     "name": "stdout",
     "output_type": "stream",
     "text": [
      "Epoch 35. accuracy: 0.7885288966725044\n"
     ]
    },
    {
     "name": "stderr",
     "output_type": "stream",
     "text": [
      "100%|██████████| 167/167 [00:00<00:00, 400.59it/s]\n",
      "100%|██████████| 72/72 [00:00<00:00, 896.10it/s]\n"
     ]
    },
    {
     "name": "stdout",
     "output_type": "stream",
     "text": [
      "Epoch 36. accuracy: 0.7898423817863398\n"
     ]
    },
    {
     "name": "stderr",
     "output_type": "stream",
     "text": [
      "100%|██████████| 167/167 [00:00<00:00, 402.52it/s]\n",
      "100%|██████████| 72/72 [00:00<00:00, 891.28it/s]\n"
     ]
    },
    {
     "name": "stdout",
     "output_type": "stream",
     "text": [
      "Epoch 37. accuracy: 0.7885288966725044\n"
     ]
    },
    {
     "name": "stderr",
     "output_type": "stream",
     "text": [
      "100%|██████████| 167/167 [00:00<00:00, 393.05it/s]\n",
      "100%|██████████| 72/72 [00:00<00:00, 721.92it/s]\n"
     ]
    },
    {
     "name": "stdout",
     "output_type": "stream",
     "text": [
      "Epoch 38. accuracy: 0.7898423817863398\n"
     ]
    },
    {
     "name": "stderr",
     "output_type": "stream",
     "text": [
      "100%|██████████| 167/167 [00:00<00:00, 325.14it/s]\n",
      "100%|██████████| 72/72 [00:00<00:00, 902.41it/s]\n"
     ]
    },
    {
     "name": "stdout",
     "output_type": "stream",
     "text": [
      "Epoch 39. accuracy: 0.7902802101576182\n"
     ]
    },
    {
     "name": "stderr",
     "output_type": "stream",
     "text": [
      "100%|██████████| 167/167 [00:00<00:00, 385.33it/s]\n",
      "100%|██████████| 72/72 [00:00<00:00, 859.44it/s]\n"
     ]
    },
    {
     "name": "stdout",
     "output_type": "stream",
     "text": [
      "Epoch 40. accuracy: 0.7863397548161121\n"
     ]
    },
    {
     "name": "stderr",
     "output_type": "stream",
     "text": [
      "100%|██████████| 167/167 [00:00<00:00, 361.66it/s]\n",
      "100%|██████████| 72/72 [00:00<00:00, 891.27it/s]\n"
     ]
    },
    {
     "name": "stdout",
     "output_type": "stream",
     "text": [
      "Epoch 41. accuracy: 0.7889667250437828\n"
     ]
    },
    {
     "name": "stderr",
     "output_type": "stream",
     "text": [
      "100%|██████████| 167/167 [00:00<00:00, 380.08it/s]\n",
      "100%|██████████| 72/72 [00:00<00:00, 872.76it/s]\n"
     ]
    },
    {
     "name": "stdout",
     "output_type": "stream",
     "text": [
      "Epoch 42. accuracy: 0.7898423817863398\n"
     ]
    },
    {
     "name": "stderr",
     "output_type": "stream",
     "text": [
      "100%|██████████| 167/167 [00:00<00:00, 358.90it/s]\n",
      "100%|██████████| 72/72 [00:00<00:00, 707.77it/s]\n"
     ]
    },
    {
     "name": "stdout",
     "output_type": "stream",
     "text": [
      "Epoch 43. accuracy: 0.7898423817863398\n"
     ]
    },
    {
     "name": "stderr",
     "output_type": "stream",
     "text": [
      "100%|██████████| 167/167 [00:00<00:00, 342.73it/s]\n",
      "100%|██████████| 72/72 [00:00<00:00, 759.92it/s]\n"
     ]
    },
    {
     "name": "stdout",
     "output_type": "stream",
     "text": [
      "Epoch 44. accuracy: 0.7859019264448336\n"
     ]
    },
    {
     "name": "stderr",
     "output_type": "stream",
     "text": [
      "100%|██████████| 167/167 [00:00<00:00, 353.26it/s]\n",
      "100%|██████████| 72/72 [00:00<00:00, 677.57it/s]\n"
     ]
    },
    {
     "name": "stdout",
     "output_type": "stream",
     "text": [
      "Epoch 45. accuracy: 0.7898423817863398\n"
     ]
    },
    {
     "name": "stderr",
     "output_type": "stream",
     "text": [
      "100%|██████████| 167/167 [00:00<00:00, 377.98it/s]\n",
      "100%|██████████| 72/72 [00:00<00:00, 880.40it/s]\n"
     ]
    },
    {
     "name": "stdout",
     "output_type": "stream",
     "text": [
      "Epoch 46. accuracy: 0.7898423817863398\n"
     ]
    },
    {
     "name": "stderr",
     "output_type": "stream",
     "text": [
      "100%|██████████| 167/167 [00:00<00:00, 373.06it/s]\n",
      "100%|██████████| 72/72 [00:00<00:00, 876.17it/s]\n"
     ]
    },
    {
     "name": "stdout",
     "output_type": "stream",
     "text": [
      "Epoch 47. accuracy: 0.787215411558669\n"
     ]
    },
    {
     "name": "stderr",
     "output_type": "stream",
     "text": [
      "100%|██████████| 167/167 [00:00<00:00, 374.69it/s]\n",
      "100%|██████████| 72/72 [00:00<00:00, 732.84it/s]\n"
     ]
    },
    {
     "name": "stdout",
     "output_type": "stream",
     "text": [
      "Epoch 48. accuracy: 0.7915936952714536\n"
     ]
    },
    {
     "name": "stderr",
     "output_type": "stream",
     "text": [
      "100%|██████████| 167/167 [00:00<00:00, 329.06it/s]\n",
      "100%|██████████| 72/72 [00:00<00:00, 823.00it/s]\n"
     ]
    },
    {
     "name": "stdout",
     "output_type": "stream",
     "text": [
      "Epoch 49. accuracy: 0.7898423817863398\n"
     ]
    },
    {
     "name": "stderr",
     "output_type": "stream",
     "text": [
      "100%|██████████| 167/167 [00:00<00:00, 331.58it/s]\n",
      "100%|██████████| 72/72 [00:00<00:00, 880.40it/s]\n"
     ]
    },
    {
     "name": "stdout",
     "output_type": "stream",
     "text": [
      "Epoch 50. accuracy: 0.7889667250437828\n"
     ]
    },
    {
     "name": "stderr",
     "output_type": "stream",
     "text": [
      "100%|██████████| 167/167 [00:00<00:00, 368.37it/s]\n",
      "100%|██████████| 72/72 [00:00<00:00, 880.41it/s]\n"
     ]
    },
    {
     "name": "stdout",
     "output_type": "stream",
     "text": [
      "Epoch 51. accuracy: 0.7902802101576182\n"
     ]
    },
    {
     "name": "stderr",
     "output_type": "stream",
     "text": [
      "100%|██████████| 167/167 [00:00<00:00, 384.05it/s]\n",
      "100%|██████████| 72/72 [00:00<00:00, 768.01it/s]\n"
     ]
    },
    {
     "name": "stdout",
     "output_type": "stream",
     "text": [
      "save model\n",
      "Epoch 52. accuracy: 0.792907180385289\n"
     ]
    },
    {
     "name": "stderr",
     "output_type": "stream",
     "text": [
      "100%|██████████| 167/167 [00:00<00:00, 342.02it/s]\n",
      "100%|██████████| 72/72 [00:00<00:00, 707.77it/s]\n"
     ]
    },
    {
     "name": "stdout",
     "output_type": "stream",
     "text": [
      "Epoch 53. accuracy: 0.792031523642732\n"
     ]
    },
    {
     "name": "stderr",
     "output_type": "stream",
     "text": [
      "100%|██████████| 167/167 [00:00<00:00, 299.39it/s]\n",
      "100%|██████████| 72/72 [00:00<00:00, 733.98it/s]\n"
     ]
    },
    {
     "name": "stdout",
     "output_type": "stream",
     "text": [
      "Epoch 54. accuracy: 0.787215411558669\n"
     ]
    },
    {
     "name": "stderr",
     "output_type": "stream",
     "text": [
      "100%|██████████| 167/167 [00:00<00:00, 343.13it/s]\n",
      "100%|██████████| 72/72 [00:00<00:00, 811.15it/s]\n"
     ]
    },
    {
     "name": "stdout",
     "output_type": "stream",
     "text": [
      "save model\n",
      "Epoch 55. accuracy: 0.7933450087565674\n"
     ]
    },
    {
     "name": "stderr",
     "output_type": "stream",
     "text": [
      "100%|██████████| 167/167 [00:00<00:00, 332.15it/s]\n",
      "100%|██████████| 72/72 [00:00<00:00, 776.27it/s]\n"
     ]
    },
    {
     "name": "stdout",
     "output_type": "stream",
     "text": [
      "Epoch 56. accuracy: 0.7894045534150613\n"
     ]
    },
    {
     "name": "stderr",
     "output_type": "stream",
     "text": [
      "100%|██████████| 167/167 [00:00<00:00, 317.40it/s]\n",
      "100%|██████████| 72/72 [00:00<00:00, 671.38it/s]\n"
     ]
    },
    {
     "name": "stdout",
     "output_type": "stream",
     "text": [
      "Epoch 57. accuracy: 0.7902802101576182\n"
     ]
    },
    {
     "name": "stderr",
     "output_type": "stream",
     "text": [
      "100%|██████████| 167/167 [00:00<00:00, 328.33it/s]\n",
      "100%|██████████| 72/72 [00:00<00:00, 751.22it/s]\n"
     ]
    },
    {
     "name": "stdout",
     "output_type": "stream",
     "text": [
      "Epoch 58. accuracy: 0.7885288966725044\n"
     ]
    },
    {
     "name": "stderr",
     "output_type": "stream",
     "text": [
      "100%|██████████| 167/167 [00:00<00:00, 338.76it/s]\n",
      "100%|██████████| 72/72 [00:00<00:00, 849.33it/s]\n"
     ]
    },
    {
     "name": "stdout",
     "output_type": "stream",
     "text": [
      "Epoch 59. accuracy: 0.7907180385288967\n"
     ]
    },
    {
     "name": "stderr",
     "output_type": "stream",
     "text": [
      "100%|██████████| 167/167 [00:00<00:00, 370.83it/s]\n",
      "100%|██████████| 72/72 [00:00<00:00, 849.33it/s]\n"
     ]
    },
    {
     "name": "stdout",
     "output_type": "stream",
     "text": [
      "Epoch 60. accuracy: 0.7880910683012259\n"
     ]
    },
    {
     "name": "stderr",
     "output_type": "stream",
     "text": [
      "100%|██████████| 167/167 [00:00<00:00, 344.13it/s]\n",
      "100%|██████████| 72/72 [00:00<00:00, 768.01it/s]\n"
     ]
    },
    {
     "name": "stdout",
     "output_type": "stream",
     "text": [
      "Epoch 61. accuracy: 0.7889667250437828\n"
     ]
    },
    {
     "name": "stderr",
     "output_type": "stream",
     "text": [
      "100%|██████████| 167/167 [00:00<00:00, 346.68it/s]\n",
      "100%|██████████| 72/72 [00:00<00:00, 707.77it/s]\n"
     ]
    },
    {
     "name": "stdout",
     "output_type": "stream",
     "text": [
      "Epoch 62. accuracy: 0.792031523642732\n"
     ]
    },
    {
     "name": "stderr",
     "output_type": "stream",
     "text": [
      "100%|██████████| 167/167 [00:00<00:00, 324.15it/s]\n",
      "100%|██████████| 72/72 [00:00<00:00, 752.01it/s]\n"
     ]
    },
    {
     "name": "stdout",
     "output_type": "stream",
     "text": [
      "Epoch 63. accuracy: 0.792031523642732\n"
     ]
    },
    {
     "name": "stderr",
     "output_type": "stream",
     "text": [
      "100%|██████████| 167/167 [00:00<00:00, 327.40it/s]\n",
      "100%|██████████| 72/72 [00:00<00:00, 784.70it/s]\n"
     ]
    },
    {
     "name": "stdout",
     "output_type": "stream",
     "text": [
      "save model\n",
      "Epoch 64. accuracy: 0.7937828371278459\n"
     ]
    },
    {
     "name": "stderr",
     "output_type": "stream",
     "text": [
      "100%|██████████| 167/167 [00:00<00:00, 354.76it/s]\n",
      "100%|██████████| 72/72 [00:00<00:00, 869.79it/s]\n"
     ]
    },
    {
     "name": "stdout",
     "output_type": "stream",
     "text": [
      "Epoch 65. accuracy: 0.792031523642732\n"
     ]
    },
    {
     "name": "stderr",
     "output_type": "stream",
     "text": [
      "100%|██████████| 167/167 [00:00<00:00, 348.45it/s]\n",
      "100%|██████████| 72/72 [00:00<00:00, 793.33it/s]\n"
     ]
    },
    {
     "name": "stdout",
     "output_type": "stream",
     "text": [
      "Epoch 66. accuracy: 0.792031523642732\n"
     ]
    },
    {
     "name": "stderr",
     "output_type": "stream",
     "text": [
      "100%|██████████| 167/167 [00:00<00:00, 314.16it/s]\n",
      "100%|██████████| 72/72 [00:00<00:00, 802.14it/s]\n"
     ]
    },
    {
     "name": "stdout",
     "output_type": "stream",
     "text": [
      "Epoch 67. accuracy: 0.787215411558669\n"
     ]
    },
    {
     "name": "stderr",
     "output_type": "stream",
     "text": [
      "100%|██████████| 167/167 [00:00<00:00, 349.17it/s]\n",
      "100%|██████████| 72/72 [00:00<00:00, 829.80it/s]\n"
     ]
    },
    {
     "name": "stdout",
     "output_type": "stream",
     "text": [
      "Epoch 68. accuracy: 0.7889667250437828\n"
     ]
    },
    {
     "name": "stderr",
     "output_type": "stream",
     "text": [
      "100%|██████████| 167/167 [00:00<00:00, 345.20it/s]\n",
      "100%|██████████| 72/72 [00:00<00:00, 843.75it/s]\n"
     ]
    },
    {
     "name": "stdout",
     "output_type": "stream",
     "text": [
      "Epoch 69. accuracy: 0.7902802101576182\n"
     ]
    },
    {
     "name": "stderr",
     "output_type": "stream",
     "text": [
      "100%|██████████| 167/167 [00:00<00:00, 371.28it/s]\n",
      "100%|██████████| 72/72 [00:00<00:00, 744.64it/s]\n"
     ]
    },
    {
     "name": "stdout",
     "output_type": "stream",
     "text": [
      "Epoch 70. accuracy: 0.7889667250437828\n"
     ]
    },
    {
     "name": "stderr",
     "output_type": "stream",
     "text": [
      "100%|██████████| 167/167 [00:00<00:00, 334.14it/s]\n",
      "100%|██████████| 72/72 [00:00<00:00, 586.93it/s]\n"
     ]
    },
    {
     "name": "stdout",
     "output_type": "stream",
     "text": [
      "Epoch 71. accuracy: 0.7889667250437828\n"
     ]
    },
    {
     "name": "stderr",
     "output_type": "stream",
     "text": [
      "100%|██████████| 167/167 [00:00<00:00, 322.01it/s]\n",
      "100%|██████████| 72/72 [00:00<00:00, 849.33it/s]\n"
     ]
    },
    {
     "name": "stdout",
     "output_type": "stream",
     "text": [
      "Epoch 72. accuracy: 0.7907180385288967\n"
     ]
    },
    {
     "name": "stderr",
     "output_type": "stream",
     "text": [
      "100%|██████████| 167/167 [00:00<00:00, 337.20it/s]\n",
      "100%|██████████| 72/72 [00:00<00:00, 700.90it/s]\n"
     ]
    },
    {
     "name": "stdout",
     "output_type": "stream",
     "text": [
      "Epoch 73. accuracy: 0.7898423817863398\n"
     ]
    },
    {
     "name": "stderr",
     "output_type": "stream",
     "text": [
      "100%|██████████| 167/167 [00:00<00:00, 355.51it/s]\n",
      "100%|██████████| 72/72 [00:00<00:00, 788.82it/s]\n"
     ]
    },
    {
     "name": "stdout",
     "output_type": "stream",
     "text": [
      "Epoch 74. accuracy: 0.7863397548161121\n"
     ]
    },
    {
     "name": "stderr",
     "output_type": "stream",
     "text": [
      "100%|██████████| 167/167 [00:00<00:00, 343.13it/s]\n",
      "100%|██████████| 72/72 [00:00<00:00, 736.66it/s]\n"
     ]
    },
    {
     "name": "stdout",
     "output_type": "stream",
     "text": [
      "Epoch 75. accuracy: 0.792031523642732\n"
     ]
    },
    {
     "name": "stderr",
     "output_type": "stream",
     "text": [
      "100%|██████████| 167/167 [00:00<00:00, 320.46it/s]\n",
      "100%|██████████| 72/72 [00:00<00:00, 829.81it/s]\n"
     ]
    },
    {
     "name": "stdout",
     "output_type": "stream",
     "text": [
      "Epoch 76. accuracy: 0.792031523642732\n"
     ]
    },
    {
     "name": "stderr",
     "output_type": "stream",
     "text": [
      "100%|██████████| 167/167 [00:00<00:00, 364.94it/s]\n",
      "100%|██████████| 72/72 [00:00<00:00, 820.37it/s]\n"
     ]
    },
    {
     "name": "stdout",
     "output_type": "stream",
     "text": [
      "Epoch 77. accuracy: 0.792031523642732\n"
     ]
    },
    {
     "name": "stderr",
     "output_type": "stream",
     "text": [
      "100%|██████████| 167/167 [00:00<00:00, 367.93it/s]\n",
      "100%|██████████| 72/72 [00:00<00:00, 869.79it/s]\n"
     ]
    },
    {
     "name": "stdout",
     "output_type": "stream",
     "text": [
      "Epoch 78. accuracy: 0.7894045534150613\n"
     ]
    },
    {
     "name": "stderr",
     "output_type": "stream",
     "text": [
      "100%|██████████| 167/167 [00:00<00:00, 367.21it/s]\n",
      "100%|██████████| 72/72 [00:00<00:00, 859.44it/s]\n"
     ]
    },
    {
     "name": "stdout",
     "output_type": "stream",
     "text": [
      "Epoch 79. accuracy: 0.7915936952714536\n"
     ]
    },
    {
     "name": "stderr",
     "output_type": "stream",
     "text": [
      "100%|██████████| 167/167 [00:00<00:00, 320.98it/s]\n",
      "100%|██████████| 72/72 [00:00<00:00, 668.45it/s]\n"
     ]
    },
    {
     "name": "stdout",
     "output_type": "stream",
     "text": [
      "Epoch 80. accuracy: 0.792031523642732\n"
     ]
    },
    {
     "name": "stderr",
     "output_type": "stream",
     "text": [
      "100%|██████████| 167/167 [00:00<00:00, 337.59it/s]\n",
      "100%|██████████| 72/72 [00:00<00:00, 694.17it/s]\n"
     ]
    },
    {
     "name": "stdout",
     "output_type": "stream",
     "text": [
      "save model\n",
      "Epoch 81. accuracy: 0.7942206654991243\n"
     ]
    },
    {
     "name": "stderr",
     "output_type": "stream",
     "text": [
      "100%|██████████| 167/167 [00:00<00:00, 320.17it/s]\n",
      "100%|██████████| 72/72 [00:00<00:00, 736.66it/s]\n"
     ]
    },
    {
     "name": "stdout",
     "output_type": "stream",
     "text": [
      "Epoch 82. accuracy: 0.7911558669001751\n"
     ]
    },
    {
     "name": "stderr",
     "output_type": "stream",
     "text": [
      "100%|██████████| 167/167 [00:00<00:00, 330.27it/s]\n",
      "100%|██████████| 72/72 [00:00<00:00, 849.33it/s]\n"
     ]
    },
    {
     "name": "stdout",
     "output_type": "stream",
     "text": [
      "Epoch 83. accuracy: 0.7902802101576182\n"
     ]
    },
    {
     "name": "stderr",
     "output_type": "stream",
     "text": [
      "100%|██████████| 167/167 [00:00<00:00, 360.49it/s]\n",
      "100%|██████████| 72/72 [00:00<00:00, 829.80it/s]\n"
     ]
    },
    {
     "name": "stdout",
     "output_type": "stream",
     "text": [
      "Epoch 84. accuracy: 0.7902802101576182\n"
     ]
    },
    {
     "name": "stderr",
     "output_type": "stream",
     "text": [
      "100%|██████████| 167/167 [00:00<00:00, 318.59it/s]\n",
      "100%|██████████| 72/72 [00:00<00:00, 829.81it/s]\n"
     ]
    },
    {
     "name": "stdout",
     "output_type": "stream",
     "text": [
      "save model\n",
      "Epoch 85. accuracy: 0.7959719789842382\n"
     ]
    },
    {
     "name": "stderr",
     "output_type": "stream",
     "text": [
      "100%|██████████| 167/167 [00:00<00:00, 344.54it/s]\n",
      "100%|██████████| 72/72 [00:00<00:00, 603.85it/s]\n"
     ]
    },
    {
     "name": "stdout",
     "output_type": "stream",
     "text": [
      "Epoch 86. accuracy: 0.7933450087565674\n"
     ]
    },
    {
     "name": "stderr",
     "output_type": "stream",
     "text": [
      "100%|██████████| 167/167 [00:00<00:00, 350.31it/s]\n",
      "100%|██████████| 72/72 [00:00<00:00, 849.33it/s]\n"
     ]
    },
    {
     "name": "stdout",
     "output_type": "stream",
     "text": [
      "Epoch 87. accuracy: 0.7933450087565674\n"
     ]
    },
    {
     "name": "stderr",
     "output_type": "stream",
     "text": [
      "100%|██████████| 167/167 [00:00<00:00, 373.30it/s]\n",
      "100%|██████████| 72/72 [00:00<00:00, 869.79it/s]\n"
     ]
    },
    {
     "name": "stdout",
     "output_type": "stream",
     "text": [
      "Epoch 88. accuracy: 0.7898423817863398\n"
     ]
    },
    {
     "name": "stderr",
     "output_type": "stream",
     "text": [
      "100%|██████████| 167/167 [00:00<00:00, 371.02it/s]\n",
      "100%|██████████| 72/72 [00:00<00:00, 829.80it/s]\n"
     ]
    },
    {
     "name": "stdout",
     "output_type": "stream",
     "text": [
      "Epoch 89. accuracy: 0.792907180385289\n"
     ]
    },
    {
     "name": "stderr",
     "output_type": "stream",
     "text": [
      "100%|██████████| 167/167 [00:00<00:00, 337.21it/s]\n",
      "100%|██████████| 72/72 [00:00<00:00, 627.76it/s]\n"
     ]
    },
    {
     "name": "stdout",
     "output_type": "stream",
     "text": [
      "Epoch 90. accuracy: 0.7942206654991243\n"
     ]
    },
    {
     "name": "stderr",
     "output_type": "stream",
     "text": [
      "100%|██████████| 167/167 [00:00<00:00, 325.77it/s]\n",
      "100%|██████████| 72/72 [00:00<00:00, 793.33it/s]\n"
     ]
    },
    {
     "name": "stdout",
     "output_type": "stream",
     "text": [
      "Epoch 91. accuracy: 0.7950963222416813\n"
     ]
    },
    {
     "name": "stderr",
     "output_type": "stream",
     "text": [
      "100%|██████████| 167/167 [00:00<00:00, 316.80it/s]\n",
      "100%|██████████| 72/72 [00:00<00:00, 776.27it/s]\n"
     ]
    },
    {
     "name": "stdout",
     "output_type": "stream",
     "text": [
      "save model\n",
      "Epoch 92. accuracy: 0.797723292469352\n"
     ]
    },
    {
     "name": "stderr",
     "output_type": "stream",
     "text": [
      "100%|██████████| 167/167 [00:00<00:00, 354.16it/s]\n",
      "100%|██████████| 72/72 [00:00<00:00, 839.45it/s]\n"
     ]
    },
    {
     "name": "stdout",
     "output_type": "stream",
     "text": [
      "Epoch 93. accuracy: 0.7907180385288967\n"
     ]
    },
    {
     "name": "stderr",
     "output_type": "stream",
     "text": [
      "100%|██████████| 167/167 [00:00<00:00, 346.68it/s]\n",
      "100%|██████████| 72/72 [00:00<00:00, 721.93it/s]\n"
     ]
    },
    {
     "name": "stdout",
     "output_type": "stream",
     "text": [
      "Epoch 94. accuracy: 0.7898423817863398\n"
     ]
    },
    {
     "name": "stderr",
     "output_type": "stream",
     "text": [
      "100%|██████████| 167/167 [00:00<00:00, 316.00it/s]\n",
      "100%|██████████| 72/72 [00:00<00:00, 736.66it/s]\n"
     ]
    },
    {
     "name": "stdout",
     "output_type": "stream",
     "text": [
      "Epoch 95. accuracy: 0.7937828371278459\n"
     ]
    },
    {
     "name": "stderr",
     "output_type": "stream",
     "text": [
      "100%|██████████| 167/167 [00:00<00:00, 336.24it/s]\n",
      "100%|██████████| 72/72 [00:00<00:00, 694.16it/s]\n"
     ]
    },
    {
     "name": "stdout",
     "output_type": "stream",
     "text": [
      "Epoch 96. accuracy: 0.7955341506129597\n"
     ]
    },
    {
     "name": "stderr",
     "output_type": "stream",
     "text": [
      "100%|██████████| 167/167 [00:00<00:00, 343.13it/s]\n",
      "100%|██████████| 72/72 [00:00<00:00, 752.01it/s]\n"
     ]
    },
    {
     "name": "stdout",
     "output_type": "stream",
     "text": [
      "Epoch 97. accuracy: 0.7972854640980735\n"
     ]
    },
    {
     "name": "stderr",
     "output_type": "stream",
     "text": [
      "100%|██████████| 167/167 [00:00<00:00, 349.96it/s]\n",
      "100%|██████████| 72/72 [00:00<00:00, 772.17it/s]\n"
     ]
    },
    {
     "name": "stdout",
     "output_type": "stream",
     "text": [
      "Epoch 98. accuracy: 0.7937828371278459\n"
     ]
    },
    {
     "name": "stderr",
     "output_type": "stream",
     "text": [
      "100%|██████████| 167/167 [00:00<00:00, 366.46it/s]\n",
      "100%|██████████| 72/72 [00:00<00:00, 849.33it/s]"
     ]
    },
    {
     "name": "stdout",
     "output_type": "stream",
     "text": [
      "Epoch 99. accuracy: 0.7898423817863398\n"
     ]
    },
    {
     "name": "stderr",
     "output_type": "stream",
     "text": [
      "\n"
     ]
    }
   ],
   "source": [
    "writer = SummaryWriter('1141514')\n",
    "optimizer = torch.optim.Adam(model.parameters(), lr=configs['optimizer_config']['lr'])\n",
    "citerion = torch.nn.BCELoss()\n",
    "os.makedirs('work_dir', exist_ok=True)\n",
    "best_accuracy = 0\n",
    "for epoch in range(configs['epoch']):\n",
    "    model.train() # Set the model to training mode\n",
    "    loss_sum = 0\n",
    "    dataset_len = len(train_dataloader.dataset)\n",
    "    for x, y in tqdm(train_dataloader):\n",
    "        batchsize = y.shape[0]\n",
    "        x = x.to(device)\n",
    "        y = y.to(device)\n",
    "        hat_y = model(x)\n",
    "        hat_y = hat_y.squeeze(-1)\n",
    "        loss = citerion(hat_y, y)\n",
    "\n",
    "        optimizer.zero_grad()\n",
    "        loss.backward()\n",
    "        torch.nn.utils.clip_grad_norm_(model.parameters(), 0.5)\n",
    "        optimizer.step()\n",
    "\n",
    "        loss_sum += loss * batchsize\n",
    "    writer.add_scalar('training loss',\n",
    "                            loss_sum/dataset_len,\n",
    "                            epoch)\n",
    "\n",
    "    model.eval()  # Set the model to evaluation mode\n",
    "    correct_predictions = 0\n",
    "    total_predictions = 0\n",
    "    test_loss = 0\n",
    "    results_predict = []\n",
    "    with torch.no_grad():\n",
    "        for x, y in tqdm(val_dataloader):\n",
    "            x = x.to(device)\n",
    "            y = y.to(device)\n",
    "\n",
    "            hat_y = model(x)\n",
    "            hat_y = hat_y.squeeze(-1)\n",
    "\n",
    "            loss = citerion(hat_y, y)\n",
    "            test_loss += loss.item() * y.size(0)\n",
    "\n",
    "            # Calculate accuracy\n",
    "            predictions = (hat_y > 0.5).int()  # Convert probabilities to binary predictions\n",
    "            correct_predictions += (predictions == y).sum().item()\n",
    "            total_predictions += y.size(0)\n",
    "            results_predict.append(predictions.cpu())\n",
    "\n",
    "    accuracy = correct_predictions / total_predictions\n",
    "    avg_test_loss = test_loss / total_predictions\n",
    "    writer.add_scalar('average validation accuracy', accuracy, epoch)\n",
    "\n",
    "    if accuracy > best_accuracy:\n",
    "        best_accuracy = accuracy\n",
    "        pt_path = os.path.join('baseline', 'best+original.pt')\n",
    "        torch.save(model.state_dict(), pt_path)\n",
    "        print('save model')\n",
    "        results_predict = torch.concat(results_predict).tolist()\n",
    "        id = pd.read_csv('nlp-getting-started/val_clean.csv')['id']\n",
    "        prediction = pd.DataFrame()\n",
    "        prediction['id'] = id.values\n",
    "        prediction['target'] = results_predict\n",
    "        prediction.to_csv('baseline/validation_result.csv',index=False)\n",
    "        \n",
    "\n",
    "    print(f'Epoch {epoch}. accuracy: {accuracy}')"
   ]
  },
  {
   "cell_type": "markdown",
   "metadata": {},
   "source": [
    "# Inference"
   ]
  },
  {
   "cell_type": "code",
   "execution_count": 14,
   "metadata": {},
   "outputs": [
    {
     "name": "stderr",
     "output_type": "stream",
     "text": [
      "100%|██████████| 102/102 [00:00<00:00, 498.90it/s]\n"
     ]
    }
   ],
   "source": [
    "results_predict = []\n",
    "\n",
    "model.load_state_dict(torch.load('baseline/best+original.pt'))\n",
    "model.eval()\n",
    "with torch.no_grad():\n",
    "    for x in tqdm(test_dataloader):\n",
    "            x = x.to(device)\n",
    "            hat_y = model(x)\n",
    "            hat_y = hat_y.squeeze(-1)\n",
    "            predictions = (hat_y > 0.5).int() \n",
    "            results_predict.append(predictions.cpu())\n",
    "\n",
    "results_predict = torch.concat(results_predict).tolist()"
   ]
  },
  {
   "cell_type": "markdown",
   "metadata": {},
   "source": [
    "# Export the results\n"
   ]
  },
  {
   "cell_type": "code",
   "execution_count": 15,
   "metadata": {},
   "outputs": [],
   "source": [
    "id = pd.read_csv('nlp-getting-started/test.csv')['id']\n",
    "prediction = pd.DataFrame()\n",
    "prediction['id'] = id.values\n",
    "prediction['target'] = results_predict\n",
    "prediction.to_csv('prediction_result/prediction_result_baseline.csv',index=False)"
   ]
  }
 ],
 "metadata": {
  "kernelspec": {
   "display_name": "Python 3.9.16 ('test39')",
   "language": "python",
   "name": "python3"
  },
  "language_info": {
   "codemirror_mode": {
    "name": "ipython",
    "version": 3
   },
   "file_extension": ".py",
   "mimetype": "text/x-python",
   "name": "python",
   "nbconvert_exporter": "python",
   "pygments_lexer": "ipython3",
   "version": "3.9.16"
  },
  "orig_nbformat": 4,
  "vscode": {
   "interpreter": {
    "hash": "4f7d00c1e8c6c4d959586412af155708a11954f21f3d38d6baaa8e2f5b479f4f"
   }
  }
 },
 "nbformat": 4,
 "nbformat_minor": 2
}
