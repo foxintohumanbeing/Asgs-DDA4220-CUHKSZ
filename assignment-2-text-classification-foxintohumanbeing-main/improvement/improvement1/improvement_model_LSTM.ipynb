{
 "cells": [
  {
   "cell_type": "markdown",
   "metadata": {},
   "source": [
    "# Preparation"
   ]
  },
  {
   "cell_type": "code",
   "execution_count": 1,
   "metadata": {},
   "outputs": [
    {
     "name": "stdout",
     "output_type": "stream",
     "text": [
      "d:\\杨蕙菡\\assignment-2-text-classification-foxintohumanbeing\\improvement\n",
      "d:\\杨蕙菡\\assignment-2-text-classification-foxintohumanbeing\n"
     ]
    }
   ],
   "source": [
    "%cd ..\n",
    "%cd .."
   ]
  },
  {
   "cell_type": "code",
   "execution_count": 2,
   "metadata": {},
   "outputs": [
    {
     "name": "stderr",
     "output_type": "stream",
     "text": [
      "[nltk_data] Downloading package stopwords to\n",
      "[nltk_data]     C:\\Users\\mayn\\AppData\\Roaming\\nltk_data...\n",
      "[nltk_data]   Package stopwords is already up-to-date!\n",
      "[nltk_data] Downloading package wordnet to\n",
      "[nltk_data]     C:\\Users\\mayn\\AppData\\Roaming\\nltk_data...\n",
      "[nltk_data]   Package wordnet is already up-to-date!\n"
     ]
    }
   ],
   "source": [
    "import torchtext\n",
    "import os\n",
    "import numpy as np\n",
    "import random\n",
    "import torch\n",
    "from torch.utils.data import DataLoader, Dataset\n",
    "from torchtext.data import get_tokenizer\n",
    "from torchtext.vocab import GloVe\n",
    "from torch.nn.utils.rnn import pad_sequence\n",
    "from torch import nn\n",
    "import pandas as pd\n",
    "import argparse\n",
    "from torch.utils.tensorboard import SummaryWriter\n",
    "from tqdm import tqdm\n",
    "import re\n",
    "from nltk.corpus import stopwords\n",
    "from nltk.stem import WordNetLemmatizer\n",
    "import nltk\n",
    "nltk.download('stopwords')\n",
    "nltk.download('wordnet')\n",
    "GLOVE_DIM = 100\n",
    "GLOVE = GloVe(name='6B', dim=GLOVE_DIM)"
   ]
  },
  {
   "cell_type": "markdown",
   "metadata": {},
   "source": [
    "## Set random seed"
   ]
  },
  {
   "cell_type": "code",
   "execution_count": 3,
   "metadata": {},
   "outputs": [
    {
     "data": {
      "text/plain": [
       "<torch._C.Generator at 0x2461e1fba10>"
      ]
     },
     "execution_count": 3,
     "metadata": {},
     "output_type": "execute_result"
    }
   ],
   "source": [
    "seed = 114\n",
    "np.random.seed(seed)\n",
    "torch.manual_seed(seed)"
   ]
  },
  {
   "cell_type": "markdown",
   "metadata": {},
   "source": [
    "# Hyperparameter"
   ]
  },
  {
   "cell_type": "code",
   "execution_count": 4,
   "metadata": {},
   "outputs": [],
   "source": [
    "configs = {\n",
    "    'work_dir': 'work_dir2', \n",
    "    'device': 'cuda:0',\n",
    "    'batch': 32, \n",
    "    'optimizer_config': {\n",
    "        'lr': 1e-4, \n",
    "    }, \n",
    "    'epoch': 100, \n",
    "    'dropout':0.5\n",
    "}"
   ]
  },
  {
   "cell_type": "code",
   "execution_count": null,
   "metadata": {},
   "outputs": [],
   "source": [
    "GLOVE_DIM = 100\n",
    "GLOVE = GloVe(name='6B', dim=GLOVE_DIM)"
   ]
  },
  {
   "cell_type": "markdown",
   "metadata": {},
   "source": [
    "# DataLoader"
   ]
  },
  {
   "cell_type": "code",
   "execution_count": 5,
   "metadata": {},
   "outputs": [],
   "source": [
    "def clean_text(text):\n",
    "    # Remove URLs\n",
    "    text = re.sub(r'http\\S+|www\\S+|https\\S+', '', text, flags=re.MULTILINE)\n",
    "\n",
    "    # Remove special characters, numbers, and punctuation\n",
    "    text = re.sub(r'\\W+', ' ', text)\n",
    "\n",
    "    # Convert to lowercase\n",
    "    text = text.lower()\n",
    "\n",
    "    # Tokenize and remove stopwords\n",
    "    tokens = text.split()\n",
    "    tokens = [token for token in tokens if token not in stopwords.words('english')]\n",
    "\n",
    "    # Lemmatize the tokens\n",
    "    lemmatizer = WordNetLemmatizer()\n",
    "    tokens = [lemmatizer.lemmatize(token) for token in tokens]\n",
    "\n",
    "    return ' '.join(tokens)"
   ]
  },
  {
   "cell_type": "code",
   "execution_count": 6,
   "metadata": {},
   "outputs": [
    {
     "name": "stdout",
     "output_type": "stream",
     "text": [
      "Complete data preprocessing with length: 5329\n",
      "Complete data preprocessing with length: 2284\n",
      "Complete data preprocessing with length: 3263\n"
     ]
    }
   ],
   "source": [
    "class TWITTERDataset(Dataset):\n",
    "\n",
    "    def __init__(self, fname, is_train=True):\n",
    "        super().__init__()\n",
    "        self.tokenizer = get_tokenizer('basic_english')\n",
    "        self.train = is_train\n",
    "        if is_train == True:\n",
    "            df = pd.read_csv(fname).iloc[:,1:]\n",
    "        else:\n",
    "            df = pd.read_csv(fname)\n",
    "        self.lines = []\n",
    "        for i in range(len(df)):\n",
    "            cleaned_text = clean_text(df.iloc[i, 3])\n",
    "            tokenized_text = self.tokenizer(cleaned_text)\n",
    "            if not tokenized_text:\n",
    "                tokenized_text = ['<UNK>']\n",
    "            if is_train == True:\n",
    "                self.lines.append((df.iloc[i, 0], df.iloc[i, 1], df.iloc[i, 2], GLOVE.get_vecs_by_tokens(tokenized_text), torch.tensor(df.iloc[i, 4], dtype=torch.int32) ))\n",
    "            else:\n",
    "                self.lines.append(( GLOVE.get_vecs_by_tokens(self.tokenizer(df.iloc[i, 3]))))\n",
    "        print('Complete data preprocessing with length:', len(self.lines)) \n",
    "\n",
    "    def __len__(self):\n",
    "        return len(self.lines)\n",
    "\n",
    "    def __getitem__(self, index: int):\n",
    "        item = self.lines[index]\n",
    "        if self.train:\n",
    "            return item[3], item[4]\n",
    "        return item\n",
    "def get_dataloader():\n",
    "    def collate_fn1(batch):\n",
    "        x, y = zip(*batch)\n",
    "        x_pad = pad_sequence(x, batch_first=True)\n",
    "        y = torch.Tensor(y)\n",
    "        return x_pad, y\n",
    "\n",
    "    def collate_fn2(batch):\n",
    "        x = [item for item in batch]\n",
    "        x_pad = pad_sequence(x, batch_first=True)\n",
    "        return x_pad\n",
    "\n",
    "    train_dataloader = DataLoader(TWITTERDataset('nlp-getting-started/train_clean.csv'),\n",
    "                    batch_size = configs['batch'],\n",
    "                    shuffle = True,\n",
    "                    collate_fn = collate_fn1)\n",
    "    val_dataloader = DataLoader(TWITTERDataset('nlp-getting-started/val_clean.csv'),\n",
    "                    batch_size = configs['batch'],\n",
    "                    shuffle = True,\n",
    "                    collate_fn = collate_fn1)\n",
    "    test_dataloader = DataLoader(TWITTERDataset('nlp-getting-started/test.csv', False),\n",
    "                    batch_size = configs['batch'],\n",
    "                    shuffle = False,\n",
    "                    collate_fn = collate_fn2)\n",
    "    return train_dataloader,val_dataloader, test_dataloader\n",
    "\n",
    "train_dataloader,val_dataloader, test_dataloader = get_dataloader()\n"
   ]
  },
  {
   "cell_type": "markdown",
   "metadata": {},
   "source": [
    "# Define Model"
   ]
  },
  {
   "cell_type": "code",
   "execution_count": 7,
   "metadata": {},
   "outputs": [],
   "source": [
    "device = configs['device']\n",
    "\n",
    "class Attention(nn.Module):\n",
    "    def __init__(self, hidden_units):\n",
    "        super(Attention, self).__init__()\n",
    "        self.hidden_units = hidden_units\n",
    "        self.attn = nn.Linear(self.hidden_units, 1)\n",
    "\n",
    "    def forward(self, outputs):\n",
    "        attn_weights = torch.tanh(self.attn(outputs))\n",
    "        attn_weights = torch.softmax(attn_weights, dim=1)\n",
    "        context = torch.sum(outputs * attn_weights, dim=1)\n",
    "        return context, attn_weights\n",
    "\n",
    "class LSTMWithAttention(torch.nn.Module):\n",
    "    def __init__(self, hidden_units=64, dropout_rate=0.5):\n",
    "        super().__init__()\n",
    "        self.drop = nn.Dropout(dropout_rate)\n",
    "        self.lstm = nn.LSTM(GLOVE_DIM, hidden_units, 1, batch_first=True)\n",
    "        self.attention = Attention(hidden_units)\n",
    "        self.linear = nn.Linear(hidden_units, 1)\n",
    "        self.sigmoid = nn.Sigmoid()\n",
    "\n",
    "    def forward(self, x: torch.Tensor):\n",
    "        emb = self.drop(x)\n",
    "        output, _ = self.lstm(emb)\n",
    "        output, attn_weights = self.attention(output)\n",
    "        output = self.linear(output)\n",
    "        output = self.sigmoid(output)\n",
    "        return output"
   ]
  },
  {
   "cell_type": "markdown",
   "metadata": {},
   "source": [
    "# Training"
   ]
  },
  {
   "cell_type": "code",
   "execution_count": 10,
   "metadata": {},
   "outputs": [
    {
     "name": "stderr",
     "output_type": "stream",
     "text": [
      "100%|██████████| 167/167 [00:00<00:00, 226.26it/s]\n",
      "100%|██████████| 72/72 [00:00<00:00, 821.37it/s]\n"
     ]
    },
    {
     "name": "stdout",
     "output_type": "stream",
     "text": [
      "save model\n",
      "Epoch 0. accuracy: 0.6160245183887916\n"
     ]
    },
    {
     "name": "stderr",
     "output_type": "stream",
     "text": [
      "100%|██████████| 167/167 [00:00<00:00, 316.77it/s]\n",
      "100%|██████████| 72/72 [00:00<00:00, 925.55it/s]\n"
     ]
    },
    {
     "name": "stdout",
     "output_type": "stream",
     "text": [
      "save model\n",
      "Epoch 1. accuracy: 0.7526269702276708\n"
     ]
    },
    {
     "name": "stderr",
     "output_type": "stream",
     "text": [
      "100%|██████████| 167/167 [00:00<00:00, 329.00it/s]\n",
      "100%|██████████| 72/72 [00:00<00:00, 852.56it/s]\n"
     ]
    },
    {
     "name": "stdout",
     "output_type": "stream",
     "text": [
      "save model\n",
      "Epoch 2. accuracy: 0.7539404553415061\n"
     ]
    },
    {
     "name": "stderr",
     "output_type": "stream",
     "text": [
      "100%|██████████| 167/167 [00:00<00:00, 339.02it/s]\n",
      "100%|██████████| 72/72 [00:00<00:00, 925.55it/s]\n"
     ]
    },
    {
     "name": "stdout",
     "output_type": "stream",
     "text": [
      "save model\n",
      "Epoch 3. accuracy: 0.7622591943957968\n"
     ]
    },
    {
     "name": "stderr",
     "output_type": "stream",
     "text": [
      "100%|██████████| 167/167 [00:00<00:00, 329.26it/s]\n",
      "100%|██████████| 72/72 [00:00<00:00, 759.92it/s]\n"
     ]
    },
    {
     "name": "stdout",
     "output_type": "stream",
     "text": [
      "save model\n",
      "Epoch 4. accuracy: 0.7675131348511384\n"
     ]
    },
    {
     "name": "stderr",
     "output_type": "stream",
     "text": [
      "100%|██████████| 167/167 [00:00<00:00, 332.24it/s]\n",
      "100%|██████████| 72/72 [00:00<00:00, 914.94it/s]\n"
     ]
    },
    {
     "name": "stdout",
     "output_type": "stream",
     "text": [
      "save model\n",
      "Epoch 5. accuracy: 0.7727670753064798\n"
     ]
    },
    {
     "name": "stderr",
     "output_type": "stream",
     "text": [
      "100%|██████████| 167/167 [00:00<00:00, 332.95it/s]\n",
      "100%|██████████| 72/72 [00:00<00:00, 917.79it/s]\n"
     ]
    },
    {
     "name": "stdout",
     "output_type": "stream",
     "text": [
      "Epoch 6. accuracy: 0.7714535901926445\n"
     ]
    },
    {
     "name": "stderr",
     "output_type": "stream",
     "text": [
      "100%|██████████| 167/167 [00:00<00:00, 319.55it/s]\n",
      "100%|██████████| 72/72 [00:00<00:00, 805.74it/s]\n"
     ]
    },
    {
     "name": "stdout",
     "output_type": "stream",
     "text": [
      "save model\n",
      "Epoch 7. accuracy: 0.7753940455341506\n"
     ]
    },
    {
     "name": "stderr",
     "output_type": "stream",
     "text": [
      "100%|██████████| 167/167 [00:00<00:00, 336.24it/s]\n",
      "100%|██████████| 72/72 [00:00<00:00, 839.45it/s]\n"
     ]
    },
    {
     "name": "stdout",
     "output_type": "stream",
     "text": [
      "Epoch 8. accuracy: 0.7740805604203153\n"
     ]
    },
    {
     "name": "stderr",
     "output_type": "stream",
     "text": [
      "100%|██████████| 167/167 [00:00<00:00, 309.76it/s]\n",
      "100%|██████████| 72/72 [00:00<00:00, 694.67it/s]\n"
     ]
    },
    {
     "name": "stdout",
     "output_type": "stream",
     "text": [
      "save model\n",
      "Epoch 9. accuracy: 0.7806479859894921\n"
     ]
    },
    {
     "name": "stderr",
     "output_type": "stream",
     "text": [
      "100%|██████████| 167/167 [00:00<00:00, 317.26it/s]\n",
      "100%|██████████| 72/72 [00:00<00:00, 842.61it/s]\n"
     ]
    },
    {
     "name": "stdout",
     "output_type": "stream",
     "text": [
      "save model\n",
      "Epoch 10. accuracy: 0.7850262697022767\n"
     ]
    },
    {
     "name": "stderr",
     "output_type": "stream",
     "text": [
      "100%|██████████| 167/167 [00:00<00:00, 332.18it/s]\n",
      "100%|██████████| 72/72 [00:00<00:00, 849.32it/s]\n"
     ]
    },
    {
     "name": "stdout",
     "output_type": "stream",
     "text": [
      "Epoch 11. accuracy: 0.7845884413309983\n"
     ]
    },
    {
     "name": "stderr",
     "output_type": "stream",
     "text": [
      "100%|██████████| 167/167 [00:00<00:00, 312.66it/s]\n",
      "100%|██████████| 72/72 [00:00<00:00, 859.43it/s]\n"
     ]
    },
    {
     "name": "stdout",
     "output_type": "stream",
     "text": [
      "Epoch 12. accuracy: 0.7793345008756567\n"
     ]
    },
    {
     "name": "stderr",
     "output_type": "stream",
     "text": [
      "100%|██████████| 167/167 [00:00<00:00, 338.28it/s]\n",
      "100%|██████████| 72/72 [00:00<00:00, 859.44it/s]\n"
     ]
    },
    {
     "name": "stdout",
     "output_type": "stream",
     "text": [
      "Epoch 13. accuracy: 0.782399299474606\n"
     ]
    },
    {
     "name": "stderr",
     "output_type": "stream",
     "text": [
      "100%|██████████| 167/167 [00:00<00:00, 322.91it/s]\n",
      "100%|██████████| 72/72 [00:00<00:00, 802.14it/s]\n"
     ]
    },
    {
     "name": "stdout",
     "output_type": "stream",
     "text": [
      "Epoch 14. accuracy: 0.7819614711033275\n"
     ]
    },
    {
     "name": "stderr",
     "output_type": "stream",
     "text": [
      "100%|██████████| 167/167 [00:00<00:00, 285.26it/s]\n",
      "100%|██████████| 72/72 [00:00<00:00, 797.09it/s]\n"
     ]
    },
    {
     "name": "stdout",
     "output_type": "stream",
     "text": [
      "Epoch 15. accuracy: 0.7845884413309983\n"
     ]
    },
    {
     "name": "stderr",
     "output_type": "stream",
     "text": [
      "100%|██████████| 167/167 [00:00<00:00, 295.32it/s]\n",
      "100%|██████████| 72/72 [00:00<00:00, 811.16it/s]\n"
     ]
    },
    {
     "name": "stdout",
     "output_type": "stream",
     "text": [
      "Epoch 16. accuracy: 0.7841506129597198\n"
     ]
    },
    {
     "name": "stderr",
     "output_type": "stream",
     "text": [
      "100%|██████████| 167/167 [00:00<00:00, 314.41it/s]\n",
      "100%|██████████| 72/72 [00:00<00:00, 827.29it/s]\n"
     ]
    },
    {
     "name": "stdout",
     "output_type": "stream",
     "text": [
      "Epoch 17. accuracy: 0.7845884413309983\n"
     ]
    },
    {
     "name": "stderr",
     "output_type": "stream",
     "text": [
      "100%|██████████| 167/167 [00:00<00:00, 308.94it/s]\n",
      "100%|██████████| 72/72 [00:00<00:00, 654.17it/s]\n"
     ]
    },
    {
     "name": "stdout",
     "output_type": "stream",
     "text": [
      "save model\n",
      "Epoch 18. accuracy: 0.7863397548161121\n"
     ]
    },
    {
     "name": "stderr",
     "output_type": "stream",
     "text": [
      "100%|██████████| 167/167 [00:00<00:00, 290.43it/s]\n",
      "100%|██████████| 72/72 [00:00<00:00, 752.01it/s]\n"
     ]
    },
    {
     "name": "stdout",
     "output_type": "stream",
     "text": [
      "Epoch 19. accuracy: 0.7832749562171629\n"
     ]
    },
    {
     "name": "stderr",
     "output_type": "stream",
     "text": [
      "100%|██████████| 167/167 [00:00<00:00, 289.43it/s]\n",
      "100%|██████████| 72/72 [00:00<00:00, 694.16it/s]\n"
     ]
    },
    {
     "name": "stdout",
     "output_type": "stream",
     "text": [
      "Epoch 20. accuracy: 0.7802101576182137\n"
     ]
    },
    {
     "name": "stderr",
     "output_type": "stream",
     "text": [
      "100%|██████████| 167/167 [00:00<00:00, 280.01it/s]\n",
      "100%|██████████| 72/72 [00:00<00:00, 820.38it/s]\n"
     ]
    },
    {
     "name": "stdout",
     "output_type": "stream",
     "text": [
      "Epoch 21. accuracy: 0.7819614711033275\n"
     ]
    },
    {
     "name": "stderr",
     "output_type": "stream",
     "text": [
      "100%|██████████| 167/167 [00:00<00:00, 332.90it/s]\n",
      "100%|██████████| 72/72 [00:00<00:00, 839.45it/s]\n"
     ]
    },
    {
     "name": "stdout",
     "output_type": "stream",
     "text": [
      "Epoch 22. accuracy: 0.7841506129597198\n"
     ]
    },
    {
     "name": "stderr",
     "output_type": "stream",
     "text": [
      "100%|██████████| 167/167 [00:00<00:00, 306.92it/s]\n",
      "100%|██████████| 72/72 [00:00<00:00, 776.27it/s]\n"
     ]
    },
    {
     "name": "stdout",
     "output_type": "stream",
     "text": [
      "save model\n",
      "Epoch 23. accuracy: 0.787215411558669\n"
     ]
    },
    {
     "name": "stderr",
     "output_type": "stream",
     "text": [
      "100%|██████████| 167/167 [00:00<00:00, 300.08it/s]\n",
      "100%|██████████| 72/72 [00:00<00:00, 736.66it/s]\n"
     ]
    },
    {
     "name": "stdout",
     "output_type": "stream",
     "text": [
      "save model\n",
      "Epoch 24. accuracy: 0.7889667250437828\n"
     ]
    },
    {
     "name": "stderr",
     "output_type": "stream",
     "text": [
      "100%|██████████| 167/167 [00:00<00:00, 293.47it/s]\n",
      "100%|██████████| 72/72 [00:00<00:00, 638.87it/s]\n"
     ]
    },
    {
     "name": "stdout",
     "output_type": "stream",
     "text": [
      "Epoch 25. accuracy: 0.787215411558669\n"
     ]
    },
    {
     "name": "stderr",
     "output_type": "stream",
     "text": [
      "100%|██████████| 167/167 [00:00<00:00, 323.53it/s]\n",
      "100%|██████████| 72/72 [00:00<00:00, 839.45it/s]\n"
     ]
    },
    {
     "name": "stdout",
     "output_type": "stream",
     "text": [
      "Epoch 26. accuracy: 0.7876532399299475\n"
     ]
    },
    {
     "name": "stderr",
     "output_type": "stream",
     "text": [
      "100%|██████████| 167/167 [00:00<00:00, 336.92it/s]\n",
      "100%|██████████| 72/72 [00:00<00:00, 820.37it/s]\n"
     ]
    },
    {
     "name": "stdout",
     "output_type": "stream",
     "text": [
      "Epoch 27. accuracy: 0.7837127845884413\n"
     ]
    },
    {
     "name": "stderr",
     "output_type": "stream",
     "text": [
      "100%|██████████| 167/167 [00:00<00:00, 329.91it/s]\n",
      "100%|██████████| 72/72 [00:00<00:00, 849.33it/s]\n"
     ]
    },
    {
     "name": "stdout",
     "output_type": "stream",
     "text": [
      "Epoch 28. accuracy: 0.7854640980735552\n"
     ]
    },
    {
     "name": "stderr",
     "output_type": "stream",
     "text": [
      "100%|██████████| 167/167 [00:00<00:00, 320.78it/s]\n",
      "100%|██████████| 72/72 [00:00<00:00, 647.25it/s]\n"
     ]
    },
    {
     "name": "stdout",
     "output_type": "stream",
     "text": [
      "Epoch 29. accuracy: 0.7859019264448336\n"
     ]
    },
    {
     "name": "stderr",
     "output_type": "stream",
     "text": [
      "100%|██████████| 167/167 [00:00<00:00, 287.71it/s]\n",
      "100%|██████████| 72/72 [00:00<00:00, 700.90it/s]\n"
     ]
    },
    {
     "name": "stdout",
     "output_type": "stream",
     "text": [
      "Epoch 30. accuracy: 0.7854640980735552\n"
     ]
    },
    {
     "name": "stderr",
     "output_type": "stream",
     "text": [
      "100%|██████████| 167/167 [00:00<00:00, 304.13it/s]\n",
      "100%|██████████| 72/72 [00:00<00:00, 736.66it/s]\n"
     ]
    },
    {
     "name": "stdout",
     "output_type": "stream",
     "text": [
      "Epoch 31. accuracy: 0.7880910683012259\n"
     ]
    },
    {
     "name": "stderr",
     "output_type": "stream",
     "text": [
      "100%|██████████| 167/167 [00:00<00:00, 319.13it/s]\n",
      "100%|██████████| 72/72 [00:00<00:00, 784.70it/s]\n"
     ]
    },
    {
     "name": "stdout",
     "output_type": "stream",
     "text": [
      "Epoch 32. accuracy: 0.7876532399299475\n"
     ]
    },
    {
     "name": "stderr",
     "output_type": "stream",
     "text": [
      "100%|██████████| 167/167 [00:00<00:00, 311.86it/s]\n",
      "100%|██████████| 72/72 [00:00<00:00, 839.45it/s]\n"
     ]
    },
    {
     "name": "stdout",
     "output_type": "stream",
     "text": [
      "Epoch 33. accuracy: 0.7837127845884413\n"
     ]
    },
    {
     "name": "stderr",
     "output_type": "stream",
     "text": [
      "100%|██████████| 167/167 [00:00<00:00, 313.83it/s]\n",
      "100%|██████████| 72/72 [00:00<00:00, 707.78it/s]\n"
     ]
    },
    {
     "name": "stdout",
     "output_type": "stream",
     "text": [
      "Epoch 34. accuracy: 0.7885288966725044\n"
     ]
    },
    {
     "name": "stderr",
     "output_type": "stream",
     "text": [
      "100%|██████████| 167/167 [00:00<00:00, 313.57it/s]\n",
      "100%|██████████| 72/72 [00:00<00:00, 839.46it/s]\n"
     ]
    },
    {
     "name": "stdout",
     "output_type": "stream",
     "text": [
      "Epoch 35. accuracy: 0.7841506129597198\n"
     ]
    },
    {
     "name": "stderr",
     "output_type": "stream",
     "text": [
      "100%|██████████| 167/167 [00:00<00:00, 334.52it/s]\n",
      "100%|██████████| 72/72 [00:00<00:00, 839.45it/s]\n"
     ]
    },
    {
     "name": "stdout",
     "output_type": "stream",
     "text": [
      "Epoch 36. accuracy: 0.7885288966725044\n"
     ]
    },
    {
     "name": "stderr",
     "output_type": "stream",
     "text": [
      "100%|██████████| 167/167 [00:00<00:00, 332.24it/s]\n",
      "100%|██████████| 72/72 [00:00<00:00, 790.69it/s]\n"
     ]
    },
    {
     "name": "stdout",
     "output_type": "stream",
     "text": [
      "Epoch 37. accuracy: 0.7867775831873906\n"
     ]
    },
    {
     "name": "stderr",
     "output_type": "stream",
     "text": [
      "100%|██████████| 167/167 [00:00<00:00, 323.39it/s]\n",
      "100%|██████████| 72/72 [00:00<00:00, 700.90it/s]\n"
     ]
    },
    {
     "name": "stdout",
     "output_type": "stream",
     "text": [
      "Epoch 38. accuracy: 0.7845884413309983\n"
     ]
    },
    {
     "name": "stderr",
     "output_type": "stream",
     "text": [
      "100%|██████████| 167/167 [00:00<00:00, 303.83it/s]\n",
      "100%|██████████| 72/72 [00:00<00:00, 596.64it/s]\n"
     ]
    },
    {
     "name": "stdout",
     "output_type": "stream",
     "text": [
      "Epoch 39. accuracy: 0.7880910683012259\n"
     ]
    },
    {
     "name": "stderr",
     "output_type": "stream",
     "text": [
      "100%|██████████| 167/167 [00:00<00:00, 277.70it/s]\n",
      "100%|██████████| 72/72 [00:00<00:00, 788.34it/s]\n"
     ]
    },
    {
     "name": "stdout",
     "output_type": "stream",
     "text": [
      "save model\n",
      "Epoch 40. accuracy: 0.7911558669001751\n"
     ]
    },
    {
     "name": "stderr",
     "output_type": "stream",
     "text": [
      "100%|██████████| 167/167 [00:00<00:00, 310.66it/s]\n",
      "100%|██████████| 72/72 [00:00<00:00, 784.71it/s]\n"
     ]
    },
    {
     "name": "stdout",
     "output_type": "stream",
     "text": [
      "Epoch 41. accuracy: 0.7867775831873906\n"
     ]
    },
    {
     "name": "stderr",
     "output_type": "stream",
     "text": [
      "100%|██████████| 167/167 [00:00<00:00, 286.93it/s]\n",
      "100%|██████████| 72/72 [00:00<00:00, 776.27it/s]\n"
     ]
    },
    {
     "name": "stdout",
     "output_type": "stream",
     "text": [
      "Epoch 42. accuracy: 0.7885288966725044\n"
     ]
    },
    {
     "name": "stderr",
     "output_type": "stream",
     "text": [
      "100%|██████████| 167/167 [00:00<00:00, 287.71it/s]\n",
      "100%|██████████| 72/72 [00:00<00:00, 649.33it/s]\n"
     ]
    },
    {
     "name": "stdout",
     "output_type": "stream",
     "text": [
      "Epoch 43. accuracy: 0.7876532399299475\n"
     ]
    },
    {
     "name": "stderr",
     "output_type": "stream",
     "text": [
      "100%|██████████| 167/167 [00:00<00:00, 282.85it/s]\n",
      "100%|██████████| 72/72 [00:00<00:00, 687.55it/s]\n"
     ]
    },
    {
     "name": "stdout",
     "output_type": "stream",
     "text": [
      "Epoch 44. accuracy: 0.7911558669001751\n"
     ]
    },
    {
     "name": "stderr",
     "output_type": "stream",
     "text": [
      "100%|██████████| 167/167 [00:00<00:00, 265.11it/s]\n",
      "100%|██████████| 72/72 [00:00<00:00, 606.66it/s]\n"
     ]
    },
    {
     "name": "stdout",
     "output_type": "stream",
     "text": [
      "Epoch 45. accuracy: 0.7885288966725044\n"
     ]
    },
    {
     "name": "stderr",
     "output_type": "stream",
     "text": [
      "100%|██████████| 167/167 [00:00<00:00, 273.34it/s]\n",
      "100%|██████████| 72/72 [00:00<00:00, 622.35it/s]\n"
     ]
    },
    {
     "name": "stdout",
     "output_type": "stream",
     "text": [
      "save model\n",
      "Epoch 46. accuracy: 0.7915936952714536\n"
     ]
    },
    {
     "name": "stderr",
     "output_type": "stream",
     "text": [
      "100%|██████████| 167/167 [00:00<00:00, 296.19it/s]\n",
      "100%|██████████| 72/72 [00:00<00:00, 711.16it/s]\n"
     ]
    },
    {
     "name": "stdout",
     "output_type": "stream",
     "text": [
      "Epoch 47. accuracy: 0.7841506129597198\n"
     ]
    },
    {
     "name": "stderr",
     "output_type": "stream",
     "text": [
      "100%|██████████| 167/167 [00:00<00:00, 303.24it/s]\n",
      "100%|██████████| 72/72 [00:00<00:00, 802.14it/s]\n"
     ]
    },
    {
     "name": "stdout",
     "output_type": "stream",
     "text": [
      "Epoch 48. accuracy: 0.7885288966725044\n"
     ]
    },
    {
     "name": "stderr",
     "output_type": "stream",
     "text": [
      "100%|██████████| 167/167 [00:00<00:00, 309.04it/s]\n",
      "100%|██████████| 72/72 [00:00<00:00, 606.66it/s]\n"
     ]
    },
    {
     "name": "stdout",
     "output_type": "stream",
     "text": [
      "Epoch 49. accuracy: 0.7880910683012259\n"
     ]
    },
    {
     "name": "stderr",
     "output_type": "stream",
     "text": [
      "100%|██████████| 167/167 [00:00<00:00, 290.60it/s]\n",
      "100%|██████████| 72/72 [00:00<00:00, 644.58it/s]\n"
     ]
    },
    {
     "name": "stdout",
     "output_type": "stream",
     "text": [
      "Epoch 50. accuracy: 0.7885288966725044\n"
     ]
    },
    {
     "name": "stderr",
     "output_type": "stream",
     "text": [
      "100%|██████████| 167/167 [00:00<00:00, 241.07it/s]\n",
      "100%|██████████| 72/72 [00:00<00:00, 644.58it/s]\n"
     ]
    },
    {
     "name": "stdout",
     "output_type": "stream",
     "text": [
      "Epoch 51. accuracy: 0.787215411558669\n"
     ]
    },
    {
     "name": "stderr",
     "output_type": "stream",
     "text": [
      "100%|██████████| 167/167 [00:00<00:00, 274.24it/s]\n",
      "100%|██████████| 72/72 [00:00<00:00, 656.30it/s]\n"
     ]
    },
    {
     "name": "stdout",
     "output_type": "stream",
     "text": [
      "Epoch 52. accuracy: 0.7889667250437828\n"
     ]
    },
    {
     "name": "stderr",
     "output_type": "stream",
     "text": [
      "100%|██████████| 167/167 [00:00<00:00, 290.92it/s]\n",
      "100%|██████████| 72/72 [00:00<00:00, 784.70it/s]\n"
     ]
    },
    {
     "name": "stdout",
     "output_type": "stream",
     "text": [
      "Epoch 53. accuracy: 0.7907180385288967\n"
     ]
    },
    {
     "name": "stderr",
     "output_type": "stream",
     "text": [
      "100%|██████████| 167/167 [00:00<00:00, 311.24it/s]\n",
      "100%|██████████| 72/72 [00:00<00:00, 802.14it/s]\n"
     ]
    },
    {
     "name": "stdout",
     "output_type": "stream",
     "text": [
      "Epoch 54. accuracy: 0.7902802101576182\n"
     ]
    },
    {
     "name": "stderr",
     "output_type": "stream",
     "text": [
      "100%|██████████| 167/167 [00:00<00:00, 285.96it/s]\n",
      "100%|██████████| 72/72 [00:00<00:00, 768.01it/s]\n"
     ]
    },
    {
     "name": "stdout",
     "output_type": "stream",
     "text": [
      "Epoch 55. accuracy: 0.7907180385288967\n"
     ]
    },
    {
     "name": "stderr",
     "output_type": "stream",
     "text": [
      "100%|██████████| 167/167 [00:00<00:00, 286.94it/s]\n",
      "100%|██████████| 72/72 [00:00<00:00, 668.45it/s]\n"
     ]
    },
    {
     "name": "stdout",
     "output_type": "stream",
     "text": [
      "Epoch 56. accuracy: 0.7902802101576182\n"
     ]
    },
    {
     "name": "stderr",
     "output_type": "stream",
     "text": [
      "100%|██████████| 167/167 [00:00<00:00, 294.80it/s]\n",
      "100%|██████████| 72/72 [00:00<00:00, 721.92it/s]\n"
     ]
    },
    {
     "name": "stdout",
     "output_type": "stream",
     "text": [
      "Epoch 57. accuracy: 0.7898423817863398\n"
     ]
    },
    {
     "name": "stderr",
     "output_type": "stream",
     "text": [
      "100%|██████████| 167/167 [00:00<00:00, 287.43it/s]\n",
      "100%|██████████| 72/72 [00:00<00:00, 744.26it/s]\n"
     ]
    },
    {
     "name": "stdout",
     "output_type": "stream",
     "text": [
      "save model\n",
      "Epoch 58. accuracy: 0.7924693520140105\n"
     ]
    },
    {
     "name": "stderr",
     "output_type": "stream",
     "text": [
      "100%|██████████| 167/167 [00:00<00:00, 286.93it/s]\n",
      "100%|██████████| 72/72 [00:00<00:00, 638.88it/s]\n"
     ]
    },
    {
     "name": "stdout",
     "output_type": "stream",
     "text": [
      "Epoch 59. accuracy: 0.7915936952714536\n"
     ]
    },
    {
     "name": "stderr",
     "output_type": "stream",
     "text": [
      "100%|██████████| 167/167 [00:00<00:00, 274.50it/s]\n",
      "100%|██████████| 72/72 [00:00<00:00, 616.83it/s]\n"
     ]
    },
    {
     "name": "stdout",
     "output_type": "stream",
     "text": [
      "save model\n",
      "Epoch 60. accuracy: 0.7942206654991243\n"
     ]
    },
    {
     "name": "stderr",
     "output_type": "stream",
     "text": [
      "100%|██████████| 167/167 [00:00<00:00, 271.04it/s]\n",
      "100%|██████████| 72/72 [00:00<00:00, 638.87it/s]\n"
     ]
    },
    {
     "name": "stdout",
     "output_type": "stream",
     "text": [
      "save model\n",
      "Epoch 61. accuracy: 0.7955341506129597\n"
     ]
    },
    {
     "name": "stderr",
     "output_type": "stream",
     "text": [
      "100%|██████████| 167/167 [00:00<00:00, 284.99it/s]\n",
      "100%|██████████| 72/72 [00:00<00:00, 668.45it/s]\n"
     ]
    },
    {
     "name": "stdout",
     "output_type": "stream",
     "text": [
      "save model\n",
      "Epoch 62. accuracy: 0.797723292469352\n"
     ]
    },
    {
     "name": "stderr",
     "output_type": "stream",
     "text": [
      "100%|██████████| 167/167 [00:00<00:00, 283.06it/s]\n",
      "100%|██████████| 72/72 [00:00<00:00, 687.55it/s]\n"
     ]
    },
    {
     "name": "stdout",
     "output_type": "stream",
     "text": [
      "Epoch 63. accuracy: 0.7911558669001751\n"
     ]
    },
    {
     "name": "stderr",
     "output_type": "stream",
     "text": [
      "100%|██████████| 167/167 [00:00<00:00, 281.90it/s]\n",
      "100%|██████████| 72/72 [00:00<00:00, 674.70it/s]\n"
     ]
    },
    {
     "name": "stdout",
     "output_type": "stream",
     "text": [
      "Epoch 64. accuracy: 0.7911558669001751\n"
     ]
    },
    {
     "name": "stderr",
     "output_type": "stream",
     "text": [
      "100%|██████████| 167/167 [00:00<00:00, 287.43it/s]\n",
      "100%|██████████| 72/72 [00:00<00:00, 674.70it/s]\n"
     ]
    },
    {
     "name": "stdout",
     "output_type": "stream",
     "text": [
      "Epoch 65. accuracy: 0.7968476357267951\n"
     ]
    },
    {
     "name": "stderr",
     "output_type": "stream",
     "text": [
      "100%|██████████| 167/167 [00:00<00:00, 292.96it/s]\n",
      "100%|██████████| 72/72 [00:00<00:00, 656.30it/s]\n"
     ]
    },
    {
     "name": "stdout",
     "output_type": "stream",
     "text": [
      "Epoch 66. accuracy: 0.7959719789842382\n"
     ]
    },
    {
     "name": "stderr",
     "output_type": "stream",
     "text": [
      "100%|██████████| 167/167 [00:00<00:00, 259.60it/s]\n",
      "100%|██████████| 72/72 [00:00<00:00, 584.20it/s]\n"
     ]
    },
    {
     "name": "stdout",
     "output_type": "stream",
     "text": [
      "Epoch 67. accuracy: 0.7955341506129597\n"
     ]
    },
    {
     "name": "stderr",
     "output_type": "stream",
     "text": [
      "100%|██████████| 167/167 [00:00<00:00, 274.95it/s]\n",
      "100%|██████████| 72/72 [00:00<00:00, 776.27it/s]\n"
     ]
    },
    {
     "name": "stdout",
     "output_type": "stream",
     "text": [
      "Epoch 68. accuracy: 0.7942206654991243\n"
     ]
    },
    {
     "name": "stderr",
     "output_type": "stream",
     "text": [
      "100%|██████████| 167/167 [00:00<00:00, 301.95it/s]\n",
      "100%|██████████| 72/72 [00:00<00:00, 776.26it/s]\n"
     ]
    },
    {
     "name": "stdout",
     "output_type": "stream",
     "text": [
      "Epoch 69. accuracy: 0.792907180385289\n"
     ]
    },
    {
     "name": "stderr",
     "output_type": "stream",
     "text": [
      "100%|██████████| 167/167 [00:00<00:00, 309.51it/s]\n",
      "100%|██████████| 72/72 [00:00<00:00, 665.00it/s]\n"
     ]
    },
    {
     "name": "stdout",
     "output_type": "stream",
     "text": [
      "Epoch 70. accuracy: 0.7955341506129597\n"
     ]
    },
    {
     "name": "stderr",
     "output_type": "stream",
     "text": [
      "100%|██████████| 167/167 [00:00<00:00, 273.16it/s]\n",
      "100%|██████████| 72/72 [00:00<00:00, 820.37it/s]\n"
     ]
    },
    {
     "name": "stdout",
     "output_type": "stream",
     "text": [
      "save model\n",
      "Epoch 71. accuracy: 0.8021015761821366\n"
     ]
    },
    {
     "name": "stderr",
     "output_type": "stream",
     "text": [
      "100%|██████████| 167/167 [00:00<00:00, 303.58it/s]\n",
      "100%|██████████| 72/72 [00:00<00:00, 802.14it/s]\n"
     ]
    },
    {
     "name": "stdout",
     "output_type": "stream",
     "text": [
      "Epoch 72. accuracy: 0.797723292469352\n"
     ]
    },
    {
     "name": "stderr",
     "output_type": "stream",
     "text": [
      "100%|██████████| 167/167 [00:00<00:00, 311.13it/s]\n",
      "100%|██████████| 72/72 [00:00<00:00, 755.45it/s]\n"
     ]
    },
    {
     "name": "stdout",
     "output_type": "stream",
     "text": [
      "Epoch 73. accuracy: 0.797723292469352\n"
     ]
    },
    {
     "name": "stderr",
     "output_type": "stream",
     "text": [
      "100%|██████████| 167/167 [00:00<00:00, 268.44it/s]\n",
      "100%|██████████| 72/72 [00:00<00:00, 656.30it/s]\n"
     ]
    },
    {
     "name": "stdout",
     "output_type": "stream",
     "text": [
      "Epoch 74. accuracy: 0.7994746059544658\n"
     ]
    },
    {
     "name": "stderr",
     "output_type": "stream",
     "text": [
      "100%|██████████| 167/167 [00:00<00:00, 274.14it/s]\n",
      "100%|██████████| 72/72 [00:00<00:00, 601.60it/s]\n"
     ]
    },
    {
     "name": "stdout",
     "output_type": "stream",
     "text": [
      "Epoch 75. accuracy: 0.7990367775831874\n"
     ]
    },
    {
     "name": "stderr",
     "output_type": "stream",
     "text": [
      "100%|██████████| 167/167 [00:00<00:00, 277.89it/s]\n",
      "100%|██████████| 72/72 [00:00<00:00, 707.77it/s]\n"
     ]
    },
    {
     "name": "stdout",
     "output_type": "stream",
     "text": [
      "Epoch 76. accuracy: 0.7972854640980735\n"
     ]
    },
    {
     "name": "stderr",
     "output_type": "stream",
     "text": [
      "100%|██████████| 167/167 [00:00<00:00, 297.07it/s]\n",
      "100%|██████████| 72/72 [00:00<00:00, 687.55it/s]\n"
     ]
    },
    {
     "name": "stdout",
     "output_type": "stream",
     "text": [
      "Epoch 77. accuracy: 0.8012259194395797\n"
     ]
    },
    {
     "name": "stderr",
     "output_type": "stream",
     "text": [
      "100%|██████████| 167/167 [00:00<00:00, 260.83it/s]\n",
      "100%|██████████| 72/72 [00:00<00:00, 752.01it/s]\n"
     ]
    },
    {
     "name": "stdout",
     "output_type": "stream",
     "text": [
      "Epoch 78. accuracy: 0.7999124343257443\n"
     ]
    },
    {
     "name": "stderr",
     "output_type": "stream",
     "text": [
      "100%|██████████| 167/167 [00:00<00:00, 303.86it/s]\n",
      "100%|██████████| 72/72 [00:00<00:00, 784.71it/s]\n"
     ]
    },
    {
     "name": "stdout",
     "output_type": "stream",
     "text": [
      "Epoch 79. accuracy: 0.7964098073555166\n"
     ]
    },
    {
     "name": "stderr",
     "output_type": "stream",
     "text": [
      "100%|██████████| 167/167 [00:00<00:00, 309.11it/s]\n",
      "100%|██████████| 72/72 [00:00<00:00, 784.71it/s]\n"
     ]
    },
    {
     "name": "stdout",
     "output_type": "stream",
     "text": [
      "Epoch 80. accuracy: 0.7946584938704028\n"
     ]
    },
    {
     "name": "stderr",
     "output_type": "stream",
     "text": [
      "100%|██████████| 167/167 [00:00<00:00, 279.75it/s]\n",
      "100%|██████████| 72/72 [00:00<00:00, 644.58it/s]\n"
     ]
    },
    {
     "name": "stdout",
     "output_type": "stream",
     "text": [
      "Epoch 81. accuracy: 0.792031523642732\n"
     ]
    },
    {
     "name": "stderr",
     "output_type": "stream",
     "text": [
      "100%|██████████| 167/167 [00:00<00:00, 273.42it/s]\n",
      "100%|██████████| 72/72 [00:00<00:00, 662.32it/s]\n"
     ]
    },
    {
     "name": "stdout",
     "output_type": "stream",
     "text": [
      "Epoch 82. accuracy: 0.7981611208406305\n"
     ]
    },
    {
     "name": "stderr",
     "output_type": "stream",
     "text": [
      "100%|██████████| 167/167 [00:00<00:00, 290.20it/s]\n",
      "100%|██████████| 72/72 [00:00<00:00, 690.52it/s]\n"
     ]
    },
    {
     "name": "stdout",
     "output_type": "stream",
     "text": [
      "Epoch 83. accuracy: 0.8021015761821366\n"
     ]
    },
    {
     "name": "stderr",
     "output_type": "stream",
     "text": [
      "100%|██████████| 167/167 [00:00<00:00, 259.39it/s]\n",
      "100%|██████████| 72/72 [00:00<00:00, 662.32it/s]\n"
     ]
    },
    {
     "name": "stdout",
     "output_type": "stream",
     "text": [
      "Epoch 84. accuracy: 0.7990367775831874\n"
     ]
    },
    {
     "name": "stderr",
     "output_type": "stream",
     "text": [
      "100%|██████████| 167/167 [00:00<00:00, 262.25it/s]\n",
      "100%|██████████| 72/72 [00:00<00:00, 707.77it/s]\n"
     ]
    },
    {
     "name": "stdout",
     "output_type": "stream",
     "text": [
      "Epoch 85. accuracy: 0.7999124343257443\n"
     ]
    },
    {
     "name": "stderr",
     "output_type": "stream",
     "text": [
      "100%|██████████| 167/167 [00:00<00:00, 285.20it/s]\n",
      "100%|██████████| 72/72 [00:00<00:00, 714.79it/s]\n"
     ]
    },
    {
     "name": "stdout",
     "output_type": "stream",
     "text": [
      "Epoch 86. accuracy: 0.7968476357267951\n"
     ]
    },
    {
     "name": "stderr",
     "output_type": "stream",
     "text": [
      "100%|██████████| 167/167 [00:00<00:00, 305.31it/s]\n",
      "100%|██████████| 72/72 [00:00<00:00, 744.25it/s]\n"
     ]
    },
    {
     "name": "stdout",
     "output_type": "stream",
     "text": [
      "Epoch 87. accuracy: 0.7999124343257443\n"
     ]
    },
    {
     "name": "stderr",
     "output_type": "stream",
     "text": [
      "100%|██████████| 167/167 [00:00<00:00, 267.67it/s]\n",
      "100%|██████████| 72/72 [00:00<00:00, 638.87it/s]\n"
     ]
    },
    {
     "name": "stdout",
     "output_type": "stream",
     "text": [
      "Epoch 88. accuracy: 0.7981611208406305\n"
     ]
    },
    {
     "name": "stderr",
     "output_type": "stream",
     "text": [
      "100%|██████████| 167/167 [00:00<00:00, 278.35it/s]\n",
      "100%|██████████| 72/72 [00:00<00:00, 611.80it/s]\n"
     ]
    },
    {
     "name": "stdout",
     "output_type": "stream",
     "text": [
      "Epoch 89. accuracy: 0.8012259194395797\n"
     ]
    },
    {
     "name": "stderr",
     "output_type": "stream",
     "text": [
      "100%|██████████| 167/167 [00:00<00:00, 273.61it/s]\n",
      "100%|██████████| 72/72 [00:00<00:00, 608.86it/s]\n"
     ]
    },
    {
     "name": "stdout",
     "output_type": "stream",
     "text": [
      "Epoch 90. accuracy: 0.797723292469352\n"
     ]
    },
    {
     "name": "stderr",
     "output_type": "stream",
     "text": [
      "100%|██████████| 167/167 [00:00<00:00, 288.92it/s]\n",
      "100%|██████████| 72/72 [00:00<00:00, 650.39it/s]\n"
     ]
    },
    {
     "name": "stdout",
     "output_type": "stream",
     "text": [
      "Epoch 91. accuracy: 0.7955341506129597\n"
     ]
    },
    {
     "name": "stderr",
     "output_type": "stream",
     "text": [
      "100%|██████████| 167/167 [00:00<00:00, 279.90it/s]\n",
      "100%|██████████| 72/72 [00:00<00:00, 674.70it/s]\n"
     ]
    },
    {
     "name": "stdout",
     "output_type": "stream",
     "text": [
      "Epoch 92. accuracy: 0.8012259194395797\n"
     ]
    },
    {
     "name": "stderr",
     "output_type": "stream",
     "text": [
      "100%|██████████| 167/167 [00:00<00:00, 285.49it/s]\n",
      "100%|██████████| 72/72 [00:00<00:00, 681.07it/s]\n"
     ]
    },
    {
     "name": "stdout",
     "output_type": "stream",
     "text": [
      "Epoch 93. accuracy: 0.7985989492119089\n"
     ]
    },
    {
     "name": "stderr",
     "output_type": "stream",
     "text": [
      "100%|██████████| 167/167 [00:00<00:00, 295.44it/s]\n",
      "100%|██████████| 72/72 [00:00<00:00, 668.45it/s]\n"
     ]
    },
    {
     "name": "stdout",
     "output_type": "stream",
     "text": [
      "Epoch 94. accuracy: 0.8016637478108581\n"
     ]
    },
    {
     "name": "stderr",
     "output_type": "stream",
     "text": [
      "100%|██████████| 167/167 [00:00<00:00, 271.96it/s]\n",
      "100%|██████████| 72/72 [00:00<00:00, 656.30it/s]\n"
     ]
    },
    {
     "name": "stdout",
     "output_type": "stream",
     "text": [
      "Epoch 95. accuracy: 0.8021015761821366\n"
     ]
    },
    {
     "name": "stderr",
     "output_type": "stream",
     "text": [
      "100%|██████████| 167/167 [00:00<00:00, 281.63it/s]\n",
      "100%|██████████| 72/72 [00:00<00:00, 662.32it/s]\n"
     ]
    },
    {
     "name": "stdout",
     "output_type": "stream",
     "text": [
      "save model\n",
      "Epoch 96. accuracy: 0.8025394045534151\n"
     ]
    },
    {
     "name": "stderr",
     "output_type": "stream",
     "text": [
      "100%|██████████| 167/167 [00:00<00:00, 284.90it/s]\n",
      "100%|██████████| 72/72 [00:00<00:00, 617.03it/s]\n"
     ]
    },
    {
     "name": "stdout",
     "output_type": "stream",
     "text": [
      "Epoch 97. accuracy: 0.8003502626970228\n"
     ]
    },
    {
     "name": "stderr",
     "output_type": "stream",
     "text": [
      "100%|██████████| 167/167 [00:00<00:00, 273.79it/s]\n",
      "100%|██████████| 72/72 [00:00<00:00, 622.35it/s]\n"
     ]
    },
    {
     "name": "stdout",
     "output_type": "stream",
     "text": [
      "Epoch 98. accuracy: 0.7907180385288967\n"
     ]
    },
    {
     "name": "stderr",
     "output_type": "stream",
     "text": [
      "100%|██████████| 167/167 [00:00<00:00, 271.29it/s]\n",
      "100%|██████████| 72/72 [00:00<00:00, 638.88it/s]"
     ]
    },
    {
     "name": "stdout",
     "output_type": "stream",
     "text": [
      "Epoch 99. accuracy: 0.7946584938704028\n"
     ]
    },
    {
     "name": "stderr",
     "output_type": "stream",
     "text": [
      "\n"
     ]
    }
   ],
   "source": [
    "writer = SummaryWriter('114154')\n",
    "model = LSTMWithAttention().to(device)\n",
    "optimizer = torch.optim.Adam(model.parameters(), lr=configs['optimizer_config']['lr'])\n",
    "citerion = torch.nn.BCELoss()\n",
    "best_accuracy = 0\n",
    "for epoch in range(configs['epoch']):\n",
    "    model.train()\n",
    "    loss_sum = 0\n",
    "    dataset_len = len(train_dataloader.dataset)\n",
    "    for x, y in tqdm(train_dataloader):\n",
    "        batchsize = y.shape[0]\n",
    "        x = x.to(device)\n",
    "        y = y.to(device)\n",
    "        hat_y = model(x)\n",
    "        hat_y = hat_y.squeeze(-1)\n",
    "        loss = citerion(hat_y, y)\n",
    "\n",
    "        optimizer.zero_grad()\n",
    "        loss.backward()\n",
    "        torch.nn.utils.clip_grad_norm_(model.parameters(), 0.5)\n",
    "        optimizer.step()\n",
    "\n",
    "        loss_sum += loss * batchsize\n",
    "    writer.add_scalar('training loss',\n",
    "                            loss_sum/dataset_len,\n",
    "                            epoch)\n",
    "\n",
    "    model.eval()  # Set the model to evaluation mode\n",
    "    correct_predictions = 0\n",
    "    total_predictions = 0\n",
    "    test_loss = 0\n",
    "    results_predict = []\n",
    "    with torch.no_grad():\n",
    "        for x, y in tqdm(val_dataloader):\n",
    "            x = x.to(device)\n",
    "            y = y.to(device)\n",
    "\n",
    "            hat_y = model(x)\n",
    "            hat_y = hat_y.squeeze(-1)\n",
    "\n",
    "            loss = citerion(hat_y, y)\n",
    "            test_loss += loss.item() * y.size(0)\n",
    "\n",
    "            # Calculate accuracy\n",
    "            predictions = (hat_y > 0.5).int()  # Convert probabilities to binary predictions\n",
    "            correct_predictions += (predictions == y).sum().item()\n",
    "            total_predictions += y.size(0)\n",
    "            results_predict.append(predictions.cpu())\n",
    "\n",
    "    accuracy = correct_predictions / total_predictions\n",
    "    avg_test_loss = test_loss / total_predictions\n",
    "    writer.add_scalar('average validation accuracy', accuracy, epoch)\n",
    "    if accuracy > best_accuracy:\n",
    "        best_accuracy = accuracy\n",
    "        pt_path = os.path.join('improvement/improvement1', 'best+LSTM.pt')\n",
    "        torch.save(model.state_dict(), pt_path)\n",
    "        print('save model')\n",
    "        results_predict = torch.concat(results_predict).tolist()\n",
    "        id = pd.read_csv('nlp-getting-started/val_clean.csv')['id']\n",
    "        prediction = pd.DataFrame()\n",
    "        prediction['id'] = id.values\n",
    "        prediction['target'] = results_predict\n",
    "        prediction.to_csv('improvement/improvement1/validation_result.csv',index=False)\n",
    "\n",
    "    print(f'Epoch {epoch}. accuracy: {accuracy}')"
   ]
  },
  {
   "cell_type": "markdown",
   "metadata": {},
   "source": [
    "# Inference"
   ]
  },
  {
   "cell_type": "code",
   "execution_count": 11,
   "metadata": {},
   "outputs": [
    {
     "name": "stderr",
     "output_type": "stream",
     "text": [
      "100%|██████████| 102/102 [00:00<00:00, 538.28it/s]\n"
     ]
    }
   ],
   "source": [
    "results_predict = []\n",
    "\n",
    "model.load_state_dict(torch.load('improvement/improvement1/best+LSTM.pt'))\n",
    "model.eval()\n",
    "with torch.no_grad():\n",
    "    for x in tqdm(test_dataloader):\n",
    "            x = x.to(device)\n",
    "            hat_y = model(x)\n",
    "            hat_y = hat_y.squeeze(-1)\n",
    "            predictions = (hat_y > 0.5).int() \n",
    "            results_predict.append(predictions.cpu())\n",
    "\n",
    "results_predict = torch.concat(results_predict).tolist()"
   ]
  },
  {
   "cell_type": "markdown",
   "metadata": {},
   "source": [
    "# Export the results"
   ]
  },
  {
   "cell_type": "code",
   "execution_count": 13,
   "metadata": {},
   "outputs": [],
   "source": [
    "id = pd.read_csv('nlp-getting-started/test.csv')['id']\n",
    "prediction = pd.DataFrame()\n",
    "prediction['id'] = id.values\n",
    "prediction['target'] = results_predict\n",
    "prediction.to_csv('prediction_result/prediction_result_LSTM.csv',index=False)"
   ]
  }
 ],
 "metadata": {
  "kernelspec": {
   "display_name": "Python 3.9.16 ('test39')",
   "language": "python",
   "name": "python3"
  },
  "language_info": {
   "codemirror_mode": {
    "name": "ipython",
    "version": 3
   },
   "file_extension": ".py",
   "mimetype": "text/x-python",
   "name": "python",
   "nbconvert_exporter": "python",
   "pygments_lexer": "ipython3",
   "version": "3.9.16"
  },
  "orig_nbformat": 4,
  "vscode": {
   "interpreter": {
    "hash": "4f7d00c1e8c6c4d959586412af155708a11954f21f3d38d6baaa8e2f5b479f4f"
   }
  }
 },
 "nbformat": 4,
 "nbformat_minor": 2
}
